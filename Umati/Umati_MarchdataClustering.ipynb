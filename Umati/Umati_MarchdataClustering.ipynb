{
 "metadata": {
  "name": "Umati_MarchdataClustering"
 },
 "nbformat": 3,
 "nbformat_minor": 0,
 "worksheets": [
  {
   "cells": [
    {
     "cell_type": "heading",
     "level": 1,
     "metadata": {},
     "source": [
      "Filtering Facebook Comments by Iterative Training"
     ]
    },
    {
     "cell_type": "heading",
     "level": 2,
     "metadata": {},
     "source": [
      "Import All necessary packages (and more!!)"
     ]
    },
    {
     "cell_type": "code",
     "collapsed": false,
     "input": [
      "import sys\n",
      "import os\n",
      "import pandas as pd\n",
      "print pd.version.version\n",
      "import numpy as np\n",
      "from datetime import datetime\n",
      "\n",
      "import sqlite3\n",
      "import psycopg2\n",
      "import pandas.io.sql as psql\n",
      "\n",
      "from sklearn.feature_extraction.text import CountVectorizer\n",
      "from sklearn.feature_extraction.text import TfidfVectorizer\n",
      "from sklearn.feature_extraction.text import HashingVectorizer\n",
      "from sklearn.feature_extraction.text import TfidfTransformer\n",
      "from sklearn.preprocessing import Normalizer\n",
      "from sklearn.cluster import KMeans, MiniBatchKMeans\n",
      "from sklearn.cross_validation import StratifiedKFold\n",
      "import time\n",
      "import pickle\n",
      "import os\n",
      "\n",
      "pd.set_option('display.height', 1000)\n",
      "pd.set_option('display.max_rows', 500)\n",
      "pd.set_option('display.max_columns', 500)\n",
      "pd.set_option('display.width', 1000)\n",
      "pd.set_option('display.max_colwidth',1000)\n"
     ],
     "language": "python",
     "metadata": {},
     "outputs": [
      {
       "output_type": "stream",
       "stream": "stdout",
       "text": [
        "0.13.1\n"
       ]
      },
      {
       "output_type": "stream",
       "stream": "stderr",
       "text": [
        "/usr/local/lib/python2.7/dist-packages/pandas/core/config.py:570: DeprecationWarning: height has been deprecated.\n",
        "\n",
        "  warnings.warn(d.msg, DeprecationWarning)\n"
       ]
      }
     ],
     "prompt_number": 5
    },
    {
     "cell_type": "heading",
     "level": 2,
     "metadata": {},
     "source": [
      "Metric Report generator for k-fold results of a classifier"
     ]
    },
    {
     "cell_type": "code",
     "collapsed": false,
     "input": [
      "#report function for X,y\n",
      "#do evaluation metrics\n",
      "def eval_metrics(y_anot,y_pred):\n",
      "    \n",
      "    \"\"\"\n",
      "    Generates evaluation metrics\n",
      "    returns multi valued function - see below\n",
      "    \"\"\"\n",
      "    \n",
      "    labels = np.unique(y_anot)\n",
      "    \n",
      "    report ={}\n",
      "    report['accuracy'] = metrics.accuracy_score(y_anot,y_pred)\n",
      "    report['auc'] = metrics.auc(y_anot,y_pred)\n",
      "    report['f1'] = metrics.f1_score(y_anot,y_pred, average=None, labels=labels)\n",
      "    report['precision'] = metrics.precision_score(y_anot,y_pred,average=None,labels=labels)\n",
      "    report['recall'] = metrics.recall_score(y_anot,y_pred,average=None,labels=labels)\n",
      "    \n",
      "    return report\n",
      "\n",
      "#Do average stratified k-fold report\n",
      "def kfold_report(n_folds,clf,X,y):\n",
      "    \"\"\"\n",
      "    Returns;\n",
      "    scores: average of eval metrics scores\n",
      "    cms_ave: average of confusion matrixes, scaled up by number of folds, maybe some rounding\n",
      "    \"\"\"\n",
      "    skf = StratifiedKFold(y,n_folds=n_folds,indices=True)\n",
      "    scores = None\n",
      "    cms = []\n",
      "    for train, test in skf:\n",
      "    \n",
      "        #Train model\n",
      "        clf_eval.fit(X[train,:],y[train])\n",
      "        #predict on test\n",
      "        y_pred = clf_eval.predict(X[test,:])\n",
      "        \n",
      "        #do evaluation metrics\n",
      "        score = eval_metrics(y[test],y_pred)\n",
      "        \n",
      "        \n",
      "        if scores == None:\n",
      "            scores = score\n",
      "        else:\n",
      "            \n",
      "            for key in score.keys():\n",
      "                scores[key]+=score[key]\n",
      "                \n",
      "        #Confusion matrix\n",
      "        cm = metrics.confusion_matrix(y[test],y_pred)\n",
      "        cms += [cm]\n",
      "        \n",
      "            \n",
      "    for key in scores:\n",
      "        scores[key] = scores[key]/n_folds\n",
      "    \n",
      "    cm_ave = sum(cms)/len(cms)*n_folds\n",
      "    \n",
      "    return scores, cm_ave\n",
      "\n",
      "\n"
     ],
     "language": "python",
     "metadata": {},
     "outputs": [],
     "prompt_number": 1
    },
    {
     "cell_type": "heading",
     "level": 2,
     "metadata": {},
     "source": [
      "Import Data and Parse to Correct Types and Filter To Correct Range"
     ]
    },
    {
     "cell_type": "code",
     "collapsed": false,
     "input": [
      "#function for conversting sqlite datetime strings to python datetime objects\n",
      "def pdata(x):\n",
      "    x = x.replace('.000000','')\n",
      "    return datetime.strptime( x, \"%Y-%m-%d %H:%M:%S\")"
     ],
     "language": "python",
     "metadata": {},
     "outputs": [],
     "prompt_number": 3
    },
    {
     "cell_type": "code",
     "collapsed": false,
     "input": [
      "#connect to autocollected results\n",
      "con = sqlite3.connect('/home/patrick/Data/development.sqlite3')\n",
      "cur = con.cursor()\n",
      "cur.execute(\"SELECT name FROM sqlite_master WHERE type='table';\")\n",
      "print(cur.fetchall())\n"
     ],
     "language": "python",
     "metadata": {},
     "outputs": [
      {
       "output_type": "stream",
       "stream": "stdout",
       "text": [
        "[(u'answer_logs',), (u'sqlite_sequence',), (u'answers',), (u'app_settings',), (u'delayed_jobs',), (u'fb_comments',), (u'fb_posts',), (u'question_logs',), (u'questions',), (u'regular_scrape_logs',), (u'scrape_page_logs',), (u'scrape_pages',), (u'scrape_session_logs',), (u'scrape_sessions',), (u'user_logs',), (u'users',), (u'schema_migrations',)]\n"
       ]
      }
     ],
     "prompt_number": 6
    },
    {
     "cell_type": "code",
     "collapsed": false,
     "input": [
      "#Import and merge Data\n",
      "#Read in autocollected posts\n",
      "df_comments = psql.read_frame('SELECT * FROM fb_comments', con)\n",
      "df_posts = psql.read_frame('SELECT * FROM fb_posts', con)\n",
      "df_pages = psql.read_frame('SELECT * FROM scrape_pages', con)\n",
      "con.close()\n",
      "\n"
     ],
     "language": "python",
     "metadata": {},
     "outputs": [],
     "prompt_number": 7
    },
    {
     "cell_type": "code",
     "collapsed": false,
     "input": [
      "#Merge page and post info\n",
      "df_all = pd.merge(df_posts,df_pages, on ='fb_page_id', how = 'left', suffixes = ['_posts','_pages'])\n",
      "#Merge comment info\n",
      "df_all = pd.merge(df_comments,df_all, left_on ='fb_post_id', right_on='id_posts', how='left',suffixes=['_comments',''])\n",
      "df_all['created_time_comments'].head()\n",
      "df_all[['created_time_comments']] = df_all[['created_time_comments']].applymap( pdata)\n",
      "df_all.sort(columns = ['created_time_comments'], inplace=True)\n",
      "df_all = df_all.set_index('created_time_comments',drop=False) #set as index to subset on\n",
      "\n"
     ],
     "language": "python",
     "metadata": {},
     "outputs": [],
     "prompt_number": 8
    },
    {
     "cell_type": "code",
     "collapsed": true,
     "input": [
      "#Filter to march\n",
      "df_all_march = df_all['2013-03'] #Subset to march\n",
      "df_all_march = df_all_march.set_index('comment_id',drop=False)\n",
      "df_all_march.info()"
     ],
     "language": "python",
     "metadata": {},
     "outputs": [
      {
       "output_type": "stream",
       "stream": "stdout",
       "text": [
        "<class 'pandas.core.frame.DataFrame'>\n",
        "Index: 441940 entries, 418072774951847_2469204 to 144115289102878_148080\n",
        "Data columns (total 33 columns):\n",
        "id                           441940 non-null int64\n",
        "fb_post_id_comments          441940 non-null int64\n",
        "comment_id                   441940 non-null object\n",
        "from_user_id                 441940 non-null object\n",
        "created_time_comments        441940 non-null datetime64[ns]\n",
        "from_user_name               441940 non-null object\n",
        "message_comments             441940 non-null object\n",
        "created_at                   441940 non-null object\n",
        "updated_at                   441940 non-null object\n",
        "parent_id                    441940 non-null object\n",
        "id_posts                     441940 non-null int64\n",
        "fb_post_id                   441940 non-null object\n",
        "message                      441940 non-null object\n",
        "fb_page_id                   441940 non-null object\n",
        "created_time                 441940 non-null object\n",
        "scrape_page_id               441940 non-null int64\n",
        "created_at_posts             441940 non-null object\n",
        "updated_at_posts             441940 non-null object\n",
        "fb_comments_count            441940 non-null int64\n",
        "regular_post                 441940 non-null object\n",
        "updated_time                 441940 non-null object\n",
        "id_pages                     441940 non-null int64\n",
        "page_url                     441940 non-null object\n",
        "scrape_frequency             441940 non-null int64\n",
        "created_at_pages             441940 non-null object\n",
        "updated_at_pages             441940 non-null object\n",
        "scrape_session_id            441940 non-null int64\n",
        "next_scrape_date             441940 non-null object\n",
        "continous_scrape             441940 non-null object\n",
        "override_session_settings    441940 non-null object\n",
        "page_type                    441940 non-null object\n",
        "fb_posts_count               441940 non-null int64\n",
        "user_id                      441940 non-null int64\n",
        "dtypes: datetime64[ns](1), int64(10), object(22)"
       ]
      }
     ],
     "prompt_number": 9
    },
    {
     "cell_type": "heading",
     "level": 2,
     "metadata": {},
     "source": [
      "Import Labels for Data; Sample Data;Ouput for Labelling; Import For Classification"
     ]
    },
    {
     "cell_type": "code",
     "collapsed": false,
     "input": [
      "#Create labels table\n",
      "labels = pd.DataFrame(columns = ['comment_id','label','iteration','description'])\n",
      "\n",
      "#Filter to matches fromn original\n",
      "with open('./reconcileAutoManual.pkl') as fin:\n",
      "    pkl = fin.read()\n",
      "matches = pickle.loads(pkl)\n",
      "df_march_origcoments = df_all_march.loc[matches['comment_id'].values]\n",
      "#df_march_origcoments.info()\n",
      "df_march_labels = df_march_origcoments[['comment_id']]\n",
      "df_march_labels['label']=True\n",
      "df_march_labels['iteration'] = 0\n",
      "df_march_labels['description'] = 'Comments from original data found in autocollected data'\n",
      "df_march_labels.columns = ['comment_id','label','iteration','description']\n",
      "labels = pd.concat([labels,df_march_labels])\n",
      "\n",
      "labels.info()\n"
     ],
     "language": "python",
     "metadata": {},
     "outputs": [
      {
       "output_type": "stream",
       "stream": "stdout",
       "text": [
        "<class 'pandas.core.frame.DataFrame'>\n",
        "Index: 136 entries, 344770865634865_1732551 to 10151418420638141_25871406\n",
        "Data columns (total 4 columns):\n",
        "comment_id     136 non-null object\n",
        "label          136 non-null object\n",
        "iteration      136 non-null object\n",
        "description    136 non-null object\n",
        "dtypes: object(4)"
       ]
      }
     ],
     "prompt_number": 10
    },
    {
     "cell_type": "heading",
     "level": 3,
     "metadata": {},
     "source": [
      "Sample Non-Labelled Data"
     ]
    },
    {
     "cell_type": "code",
     "collapsed": false,
     "input": [
      "sample_index = sample_proportions(labels, df_all_march, sample_size=5000, proportion_weighted=0.8, block_size = 10, top_N=10)\n",
      "len(sample_index)"
     ],
     "language": "python",
     "metadata": {},
     "outputs": []
    },
    {
     "cell_type": "heading",
     "level": 3,
     "metadata": {},
     "source": [
      "Output to HTML file for Annotation"
     ]
    },
    {
     "cell_type": "code",
     "collapsed": false,
     "input": [
      "#Output for annotation\n",
      "import codecs\n",
      "thesample = df_all_march.loc[sample_index]\n",
      "thesample_output = thesample[['comment_id','page_url','message_comments','message']]\n",
      "with codecs.open('../Data/Annotations1.html','w',encoding='UTF-8') as fout:\n",
      "    fout.write(thesample_output.to_html())\n",
      "\n",
      "#from pandas import ExcelWriter\n",
      "#writer = ExcelWriter('../Data/Annotation1.xlsx')\n",
      "#thesample = df_all_march.loc[sample_index]\n",
      "#thesample_output = thesample[['comment_id','page_url','message_comments','message']]\n",
      "#thesample_output.to_excel(writer, \"Sheet1\")\n",
      "#writer.save()\n"
     ],
     "language": "python",
     "metadata": {},
     "outputs": []
    },
    {
     "cell_type": "code",
     "collapsed": false,
     "input": [],
     "language": "python",
     "metadata": {},
     "outputs": []
    },
    {
     "cell_type": "heading",
     "level": 3,
     "metadata": {},
     "source": [
      "Import new labels and merge with Older labels"
     ]
    },
    {
     "cell_type": "code",
     "collapsed": false,
     "input": [
      "#Combine labels with all labels\n",
      "print labels.columns\n",
      "df_thislabels = pd.read_csv('../Data/UmatiLabels/Labelled/FirstIteration/Annotations1_justFaithLabels.csv')\n",
      "df_thislabels.head()\n",
      "\n",
      "df_thislabels.dropna(axis=0,inplace=True)\n",
      "#Clean labels \n",
      "df_thislabels['Annotation'][df_thislabels['Annotation'].str.contains('T')]='T'\n",
      "df_thislabels['Annotation'][df_thislabels['Annotation'].str.contains('F')]='F'\n",
      "\n",
      "df_thislabels['Annotation'][df_thislabels['Annotation']=='T']=True\n",
      "df_thislabels['Annotation'][df_thislabels['Annotation']=='F']=False\n",
      "\n",
      "df_thislabels['iteration'] = labels['iteration'].max() + 1\n",
      "df_thislabels['description'] = 'first iteration labelled by faith'\n",
      "df_thislabels.columns = labels.columns\n",
      "\n",
      "thislabels = pd.concat([labels,df_thislabels])\n",
      "thislabels['label'].value_counts()\n"
     ],
     "language": "python",
     "metadata": {},
     "outputs": [
      {
       "output_type": "stream",
       "stream": "stdout",
       "text": [
        "Index([u'comment_id', u'label', u'iteration', u'description'], dtype='object')\n"
       ]
      },
      {
       "output_type": "pyout",
       "prompt_number": 193,
       "text": [
        "False    1452\n",
        "True      154\n",
        "dtype: int64"
       ]
      }
     ],
     "prompt_number": 193
    },
    {
     "cell_type": "code",
     "collapsed": false,
     "input": [
      "df_thislabels2 = pd.read_csv('../Data/UmatiLabels/Labelled/FirstIteration/20140314_LabelsBig_combined.csv')\n",
      "\n",
      "df_thislabels2 = df_thislabels2[['comment_id','InterestingSpeech']]\n",
      "df_thislabels2 = df_thislabels2.set_index('comment_id',drop=False)\n",
      "df_thislabels2 = df_thislabels2.dropna(axis=0)\n",
      "df_thislabels2['iteration']=1\n",
      "#description\n",
      "df_thislabels2['description'] = 'first iteration labelled by group'\n",
      "df_thislabels2.columns = df_thislabels.columns\n",
      "#df_thislabels2.info()\n",
      "\n",
      "#Get true and falses independent of label 'T,tt,t' etc\n",
      "false_filter = df_thislabels2['label'].str.contains('[Ff]')\n",
      "true_filter = df_thislabels2['label'].str.contains('[Tt]')\n",
      "#true_filter.value_counts()\n",
      "\n",
      "#Relabel to True/False boolean\n",
      "df_thislabels2['label'][false_filter] = False\n",
      "df_thislabels2['label'][true_filter] = True\n",
      "df_thislabels2['label'].value_counts()\n",
      "\n",
      "#Concat to existing labels\n",
      "thislabels2 = pd.concat([thislabels,df_thislabels2])\n",
      "thislabels2['label'].value_counts()\n",
      "thislabels2.set_index('comment_id',drop=False,inplace=True)\n",
      "\n"
     ],
     "language": "python",
     "metadata": {},
     "outputs": [],
     "prompt_number": 194
    },
    {
     "cell_type": "code",
     "collapsed": false,
     "input": [
      "thislabels2.index == pd.Index(thislabels2['comment_id'])"
     ],
     "language": "python",
     "metadata": {},
     "outputs": [
      {
       "output_type": "pyout",
       "prompt_number": 228,
       "text": [
        "True"
       ]
      }
     ],
     "prompt_number": 228
    },
    {
     "cell_type": "code",
     "collapsed": false,
     "input": [
      "#Get sample index\n",
      "sample_size = 3000*5\n",
      "big_sample = sample_proportions(thislabels,df_all_march,sample_size,proportion_weighted=0.7,block_size=20)"
     ],
     "language": "python",
     "metadata": {},
     "outputs": []
    },
    {
     "cell_type": "code",
     "collapsed": false,
     "input": [
      "#Output for annotation\n",
      "import codecs\n",
      "\n",
      "lst = range(0, len(big_sample))\n",
      "ch = chunks( lst, len(lst)/5)\n",
      "sample_ranges = [[c[0],c[-1]] for c in ch]\n",
      "\n",
      "smp_indexs = [ big_sample[start:end] for [start, end] in sample_ranges]\n",
      "output_df = pd.DataFrame(df_all_march[['comment_id','page_url','message_comments','message']], copy=True)\n",
      "\n",
      "#output_df['InterestingSpeech'] = ''\n",
      "#output_df['UmatiLabels'] = ''\n",
      "\n",
      "\n",
      "thesamples = [ output_df.loc[sample_index] for sample_index in smp_indexs]\n",
      "\n",
      "thesamples[2].head()\n",
      "\n",
      "for (i, smpl) in enumerate(thesamples):\n",
      "    with codecs.open('../Data/LabelsBig_group'+ str(i) + '.html','w',encoding='UTF-32') as fout:\n",
      "        fout.write(smpl.to_html())"
     ],
     "language": "python",
     "metadata": {},
     "outputs": []
    },
    {
     "cell_type": "code",
     "collapsed": false,
     "input": [
      "#Write labels to output\n",
      "#Includes labelled for first iteration of training\n",
      "thislabels2.description.value_counts()\n",
      "thislabels2.to_csv('../Data/UmatiLabels/AllLabelsTable.csv')\n"
     ],
     "language": "python",
     "metadata": {},
     "outputs": [],
     "prompt_number": 19
    },
    {
     "cell_type": "heading",
     "level": 1,
     "metadata": {},
     "source": [
      "Feature Extraction"
     ]
    },
    {
     "cell_type": "code",
     "collapsed": false,
     "input": [
      "#Get features\n",
      "labels_ids = thislabels2.index\n",
      "features = df_all_march[['page_url','message','message_comments','from_user_name']].loc[labels_ids]\n"
     ],
     "language": "python",
     "metadata": {},
     "outputs": [],
     "prompt_number": 267
    },
    {
     "cell_type": "code",
     "collapsed": false,
     "input": [
      "features.shape"
     ],
     "language": "python",
     "metadata": {},
     "outputs": [
      {
       "output_type": "pyout",
       "prompt_number": 268,
       "text": [
        "(3986, 4)"
       ]
      }
     ],
     "prompt_number": 268
    },
    {
     "cell_type": "code",
     "collapsed": false,
     "input": [
      "#Vectorize comments\n",
      "#This extract text at numpy array\n",
      "text_comments = features['message_comments']\n",
      "\n",
      "#Make large word features\n",
      "#uses sklearn CountVectoriser/bag of words\n",
      "#This is fitting vocab\n",
      "from sklearn.feature_extraction.text import CountVectorizer\n",
      "#vectoriser_training = CountVectorizer(stop_words='english',\n",
      " #\t\t\t\t\tstrip_accents='unicode',\n",
      " #\t\t\t\t\tngram_range = (1,3))\n",
      "vectoriser_training = TfidfVectorizer(stop_words='english',\n",
      "\t\t\t\t\tstrip_accents='unicode',\n",
      "\t\t\t\t\tngram_range = (1,3))\n",
      "\n",
      "\n",
      "t = time.time()\n",
      "features_comments = vectoriser_training.fit_transform(text_comments) \n",
      "print \"training text to word vector took\", time.time()-t, \"seconds\"\n",
      "features_comments.shape\n",
      "#Change from sparse matrix to dense matrix\n",
      "#vect_train = features_msg_training.todense() #BIG memory usage 2GB, see how to use the sparse for training\n",
      "\n"
     ],
     "language": "python",
     "metadata": {},
     "outputs": [
      {
       "output_type": "stream",
       "stream": "stdout",
       "text": [
        "training text to word vector took 0.68622803688 seconds\n"
       ]
      },
      {
       "output_type": "pyout",
       "prompt_number": 269,
       "text": [
        "(3986, 59314)"
       ]
      }
     ],
     "prompt_number": 269
    },
    {
     "cell_type": "code",
     "collapsed": false,
     "input": [
      "#Vectorise post features\n",
      "text_posts = features['message']\n",
      "vectoriser_posts = CountVectorizer(stop_words='english',\n",
      " \t\t\t\t\tstrip_accents='unicode',\n",
      " \t\t\t\t\tngram_range = (1,3))\n",
      "\n",
      "vectoriser_posts = TfidfVectorizer(stop_words='english',\n",
      "\t\t\t\t\tstrip_accents='unicode',\n",
      "\t\t\t\t\tngram_range = (1,3))\n",
      "\n",
      "\n",
      "t = time.time()\n",
      "features_posts = vectoriser_posts.fit_transform(text_posts) \n",
      "print \"training text to word vector took\", time.time()-t, \"seconds\"\n",
      "features_posts.shape\n"
     ],
     "language": "python",
     "metadata": {},
     "outputs": [
      {
       "output_type": "stream",
       "stream": "stdout",
       "text": [
        "training text to word vector took 0.663034915924 seconds\n"
       ]
      },
      {
       "output_type": "pyout",
       "prompt_number": 264,
       "text": [
        "(3986, 13005)"
       ]
      }
     ],
     "prompt_number": 264
    },
    {
     "cell_type": "code",
     "collapsed": false,
     "input": [],
     "language": "python",
     "metadata": {},
     "outputs": []
    },
    {
     "cell_type": "code",
     "collapsed": false,
     "input": [
      "#Categorical features\n",
      "features_page = features['page_url']\n",
      "\n",
      "from sklearn.feature_extraction import DictVectorizer\n",
      "from sklearn.preprocessing import LabelBinarizer\n",
      "\n",
      "lb = LabelBinarizer()\n",
      "pages_bn = lb.fit_transform(list(features_page.values))\n",
      "lb.classes_\n",
      "\n",
      "spages = sp.csc_matrix(pages_bn)\n",
      "features_all = sp.hstack([features_posts,features_comments])\n",
      "features_all = sp.csc.csc_matrix(features_all)\n",
      "\n",
      "print features_posts.shape\n",
      "print features_comments.shape\n",
      "print spages.shape\n",
      "features_all.shape                         "
     ],
     "language": "python",
     "metadata": {},
     "outputs": [
      {
       "output_type": "stream",
       "stream": "stdout",
       "text": [
        "(3986, 13005)\n",
        "(3986, 59314)\n",
        "(3986, 11)\n"
       ]
      },
      {
       "output_type": "pyout",
       "prompt_number": 337,
       "text": [
        "(3986, 72319)"
       ]
      }
     ],
     "prompt_number": 337
    },
    {
     "cell_type": "heading",
     "level": 2,
     "metadata": {},
     "source": [
      "Cluster"
     ]
    },
    {
     "cell_type": "code",
     "collapsed": false,
     "input": [
      "from sklearn.cluster import KMeans, MiniBatchKMeans\n",
      "#mbk = KMeans(n_clusters = 50, n_jobs=-1)\n",
      "mbk = MiniBatchKMeans(n_clusters = 50)\n",
      "\n",
      "t0 = time.time()\n",
      "mbk.fit(features_all)\n",
      "t1 = time.time() - t0\n",
      "print \"time taken \", t1"
     ],
     "language": "python",
     "metadata": {},
     "outputs": [
      {
       "output_type": "stream",
       "stream": "stdout",
       "text": [
        "time taken  1.27993583679\n"
       ]
      }
     ],
     "prompt_number": 394
    },
    {
     "cell_type": "code",
     "collapsed": false,
     "input": [
      "clusters_dist = mbk.transform(features_all)\n",
      "clusters_label = mbk.predict(features_all)\n",
      "clusters_label.shape\n",
      "clusters_label"
     ],
     "language": "python",
     "metadata": {},
     "outputs": [
      {
       "output_type": "pyout",
       "prompt_number": 395,
       "text": [
        "array([21, 21, 21, ..., 21, 21, 21], dtype=int32)"
       ]
      }
     ],
     "prompt_number": 395
    },
    {
     "cell_type": "code",
     "collapsed": false,
     "input": [
      "#Add clusters to features\n",
      "features_clust = pd.DataFrame(features,copy=True)\n",
      "features_clust['cluster'] = clusters_label"
     ],
     "language": "python",
     "metadata": {},
     "outputs": [],
     "prompt_number": 396
    },
    {
     "cell_type": "code",
     "collapsed": false,
     "input": [],
     "language": "python",
     "metadata": {},
     "outputs": [],
     "prompt_number": 396
    },
    {
     "cell_type": "code",
     "collapsed": false,
     "input": [
      "#Make table to compare clusters to labels\n",
      "#Can see that \n",
      "clust_and_label = pd.merge(features_clust[['cluster']], thislabels2, how='inner', left_index=True, right_index=True)\n",
      "print clust_and_label.shape\n",
      "table_clusters = pd.crosstab(clust_and_label['cluster'], clust_and_label['label'])\n",
      "table_clusters.columns = ['False', 'True']\n",
      "table_clusters = table_clusters.sort(columns=['True'],ascending=False)\n",
      "table_clusters['cluster_size'] = table_clusters.sum(axis=1)\n",
      "table_clusters['true_pc_cluster'] = table_clusters['True']/table_clusters['cluster_size']\n",
      "table_clusters.sort(columns=['true_pc_cluster'],ascending=False,inplace=True)\n",
      "table_clusters['true_cumsum'] = table_clusters[['True']].cumsum()\n",
      "table_clusters['true_cumsum_pc'] = table_clusters[['true_cumsum']]/(table_clusters[['True']].sum().values)\n",
      "table_clusters"
     ],
     "language": "python",
     "metadata": {},
     "outputs": [
      {
       "output_type": "stream",
       "stream": "stdout",
       "text": [
        "(3996, 5)\n"
       ]
      },
      {
       "html": [
        "<div style=\"max-height:1000px;max-width:1500px;overflow:auto;\">\n",
        "<table border=\"1\" class=\"dataframe\">\n",
        "  <thead>\n",
        "    <tr style=\"text-align: right;\">\n",
        "      <th></th>\n",
        "      <th>False</th>\n",
        "      <th>True</th>\n",
        "      <th>cluster_size</th>\n",
        "      <th>true_pc_cluster</th>\n",
        "      <th>true_cumsum</th>\n",
        "      <th>true_cumsum_pc</th>\n",
        "    </tr>\n",
        "    <tr>\n",
        "      <th>cluster</th>\n",
        "      <th></th>\n",
        "      <th></th>\n",
        "      <th></th>\n",
        "      <th></th>\n",
        "      <th></th>\n",
        "      <th></th>\n",
        "    </tr>\n",
        "  </thead>\n",
        "  <tbody>\n",
        "    <tr>\n",
        "      <th>37</th>\n",
        "      <td>    0</td>\n",
        "      <td>   1</td>\n",
        "      <td>    1</td>\n",
        "      <td> 1.000000</td>\n",
        "      <td>   1</td>\n",
        "      <td> 0.001912</td>\n",
        "    </tr>\n",
        "    <tr>\n",
        "      <th>10</th>\n",
        "      <td>    0</td>\n",
        "      <td>   1</td>\n",
        "      <td>    1</td>\n",
        "      <td> 1.000000</td>\n",
        "      <td>   2</td>\n",
        "      <td> 0.003824</td>\n",
        "    </tr>\n",
        "    <tr>\n",
        "      <th>6 </th>\n",
        "      <td>   89</td>\n",
        "      <td>  31</td>\n",
        "      <td>  120</td>\n",
        "      <td> 0.258333</td>\n",
        "      <td>  33</td>\n",
        "      <td> 0.063098</td>\n",
        "    </tr>\n",
        "    <tr>\n",
        "      <th>12</th>\n",
        "      <td>   52</td>\n",
        "      <td>  18</td>\n",
        "      <td>   70</td>\n",
        "      <td> 0.257143</td>\n",
        "      <td>  51</td>\n",
        "      <td> 0.097514</td>\n",
        "    </tr>\n",
        "    <tr>\n",
        "      <th>35</th>\n",
        "      <td>   16</td>\n",
        "      <td>   4</td>\n",
        "      <td>   20</td>\n",
        "      <td> 0.200000</td>\n",
        "      <td>  55</td>\n",
        "      <td> 0.105163</td>\n",
        "    </tr>\n",
        "    <tr>\n",
        "      <th>29</th>\n",
        "      <td>   73</td>\n",
        "      <td>  13</td>\n",
        "      <td>   86</td>\n",
        "      <td> 0.151163</td>\n",
        "      <td>  68</td>\n",
        "      <td> 0.130019</td>\n",
        "    </tr>\n",
        "    <tr>\n",
        "      <th>15</th>\n",
        "      <td>  131</td>\n",
        "      <td>  21</td>\n",
        "      <td>  152</td>\n",
        "      <td> 0.138158</td>\n",
        "      <td>  89</td>\n",
        "      <td> 0.170172</td>\n",
        "    </tr>\n",
        "    <tr>\n",
        "      <th>21</th>\n",
        "      <td> 2275</td>\n",
        "      <td> 364</td>\n",
        "      <td> 2639</td>\n",
        "      <td> 0.137931</td>\n",
        "      <td> 453</td>\n",
        "      <td> 0.866157</td>\n",
        "    </tr>\n",
        "    <tr>\n",
        "      <th>24</th>\n",
        "      <td>   44</td>\n",
        "      <td>   7</td>\n",
        "      <td>   51</td>\n",
        "      <td> 0.137255</td>\n",
        "      <td> 460</td>\n",
        "      <td> 0.879541</td>\n",
        "    </tr>\n",
        "    <tr>\n",
        "      <th>2 </th>\n",
        "      <td>   84</td>\n",
        "      <td>  13</td>\n",
        "      <td>   97</td>\n",
        "      <td> 0.134021</td>\n",
        "      <td> 473</td>\n",
        "      <td> 0.904398</td>\n",
        "    </tr>\n",
        "    <tr>\n",
        "      <th>0 </th>\n",
        "      <td>   29</td>\n",
        "      <td>   4</td>\n",
        "      <td>   33</td>\n",
        "      <td> 0.121212</td>\n",
        "      <td> 477</td>\n",
        "      <td> 0.912046</td>\n",
        "    </tr>\n",
        "    <tr>\n",
        "      <th>22</th>\n",
        "      <td>   41</td>\n",
        "      <td>   5</td>\n",
        "      <td>   46</td>\n",
        "      <td> 0.108696</td>\n",
        "      <td> 482</td>\n",
        "      <td> 0.921606</td>\n",
        "    </tr>\n",
        "    <tr>\n",
        "      <th>1 </th>\n",
        "      <td>  147</td>\n",
        "      <td>  17</td>\n",
        "      <td>  164</td>\n",
        "      <td> 0.103659</td>\n",
        "      <td> 499</td>\n",
        "      <td> 0.954111</td>\n",
        "    </tr>\n",
        "    <tr>\n",
        "      <th>44</th>\n",
        "      <td>   47</td>\n",
        "      <td>   5</td>\n",
        "      <td>   52</td>\n",
        "      <td> 0.096154</td>\n",
        "      <td> 504</td>\n",
        "      <td> 0.963671</td>\n",
        "    </tr>\n",
        "    <tr>\n",
        "      <th>16</th>\n",
        "      <td>   71</td>\n",
        "      <td>   7</td>\n",
        "      <td>   78</td>\n",
        "      <td> 0.089744</td>\n",
        "      <td> 511</td>\n",
        "      <td> 0.977055</td>\n",
        "    </tr>\n",
        "    <tr>\n",
        "      <th>3 </th>\n",
        "      <td>   51</td>\n",
        "      <td>   3</td>\n",
        "      <td>   54</td>\n",
        "      <td> 0.055556</td>\n",
        "      <td> 514</td>\n",
        "      <td> 0.982792</td>\n",
        "    </tr>\n",
        "    <tr>\n",
        "      <th>46</th>\n",
        "      <td>   62</td>\n",
        "      <td>   3</td>\n",
        "      <td>   65</td>\n",
        "      <td> 0.046154</td>\n",
        "      <td> 517</td>\n",
        "      <td> 0.988528</td>\n",
        "    </tr>\n",
        "    <tr>\n",
        "      <th>31</th>\n",
        "      <td>   21</td>\n",
        "      <td>   1</td>\n",
        "      <td>   22</td>\n",
        "      <td> 0.045455</td>\n",
        "      <td> 518</td>\n",
        "      <td> 0.990440</td>\n",
        "    </tr>\n",
        "    <tr>\n",
        "      <th>45</th>\n",
        "      <td>  106</td>\n",
        "      <td>   4</td>\n",
        "      <td>  110</td>\n",
        "      <td> 0.036364</td>\n",
        "      <td> 522</td>\n",
        "      <td> 0.998088</td>\n",
        "    </tr>\n",
        "    <tr>\n",
        "      <th>48</th>\n",
        "      <td>   38</td>\n",
        "      <td>   1</td>\n",
        "      <td>   39</td>\n",
        "      <td> 0.025641</td>\n",
        "      <td> 523</td>\n",
        "      <td> 1.000000</td>\n",
        "    </tr>\n",
        "    <tr>\n",
        "      <th>20</th>\n",
        "      <td>    1</td>\n",
        "      <td>   0</td>\n",
        "      <td>    1</td>\n",
        "      <td> 0.000000</td>\n",
        "      <td> 523</td>\n",
        "      <td> 1.000000</td>\n",
        "    </tr>\n",
        "    <tr>\n",
        "      <th>19</th>\n",
        "      <td>    1</td>\n",
        "      <td>   0</td>\n",
        "      <td>    1</td>\n",
        "      <td> 0.000000</td>\n",
        "      <td> 523</td>\n",
        "      <td> 1.000000</td>\n",
        "    </tr>\n",
        "    <tr>\n",
        "      <th>18</th>\n",
        "      <td>   23</td>\n",
        "      <td>   0</td>\n",
        "      <td>   23</td>\n",
        "      <td> 0.000000</td>\n",
        "      <td> 523</td>\n",
        "      <td> 1.000000</td>\n",
        "    </tr>\n",
        "    <tr>\n",
        "      <th>30</th>\n",
        "      <td>    1</td>\n",
        "      <td>   0</td>\n",
        "      <td>    1</td>\n",
        "      <td> 0.000000</td>\n",
        "      <td> 523</td>\n",
        "      <td> 1.000000</td>\n",
        "    </tr>\n",
        "    <tr>\n",
        "      <th>13</th>\n",
        "      <td>   31</td>\n",
        "      <td>   0</td>\n",
        "      <td>   31</td>\n",
        "      <td> 0.000000</td>\n",
        "      <td> 523</td>\n",
        "      <td> 1.000000</td>\n",
        "    </tr>\n",
        "    <tr>\n",
        "      <th>14</th>\n",
        "      <td>    2</td>\n",
        "      <td>   0</td>\n",
        "      <td>    2</td>\n",
        "      <td> 0.000000</td>\n",
        "      <td> 523</td>\n",
        "      <td> 1.000000</td>\n",
        "    </tr>\n",
        "    <tr>\n",
        "      <th>38</th>\n",
        "      <td>    2</td>\n",
        "      <td>   0</td>\n",
        "      <td>    2</td>\n",
        "      <td> 0.000000</td>\n",
        "      <td> 523</td>\n",
        "      <td> 1.000000</td>\n",
        "    </tr>\n",
        "    <tr>\n",
        "      <th>26</th>\n",
        "      <td>    3</td>\n",
        "      <td>   0</td>\n",
        "      <td>    3</td>\n",
        "      <td> 0.000000</td>\n",
        "      <td> 523</td>\n",
        "      <td> 1.000000</td>\n",
        "    </tr>\n",
        "    <tr>\n",
        "      <th>27</th>\n",
        "      <td>    1</td>\n",
        "      <td>   0</td>\n",
        "      <td>    1</td>\n",
        "      <td> 0.000000</td>\n",
        "      <td> 523</td>\n",
        "      <td> 1.000000</td>\n",
        "    </tr>\n",
        "    <tr>\n",
        "      <th>25</th>\n",
        "      <td>    1</td>\n",
        "      <td>   0</td>\n",
        "      <td>    1</td>\n",
        "      <td> 0.000000</td>\n",
        "      <td> 523</td>\n",
        "      <td> 1.000000</td>\n",
        "    </tr>\n",
        "    <tr>\n",
        "      <th>43</th>\n",
        "      <td>    2</td>\n",
        "      <td>   0</td>\n",
        "      <td>    2</td>\n",
        "      <td> 0.000000</td>\n",
        "      <td> 523</td>\n",
        "      <td> 1.000000</td>\n",
        "    </tr>\n",
        "    <tr>\n",
        "      <th>42</th>\n",
        "      <td>    5</td>\n",
        "      <td>   0</td>\n",
        "      <td>    5</td>\n",
        "      <td> 0.000000</td>\n",
        "      <td> 523</td>\n",
        "      <td> 1.000000</td>\n",
        "    </tr>\n",
        "    <tr>\n",
        "      <th>41</th>\n",
        "      <td>    2</td>\n",
        "      <td>   0</td>\n",
        "      <td>    2</td>\n",
        "      <td> 0.000000</td>\n",
        "      <td> 523</td>\n",
        "      <td> 1.000000</td>\n",
        "    </tr>\n",
        "    <tr>\n",
        "      <th>4 </th>\n",
        "      <td>   18</td>\n",
        "      <td>   0</td>\n",
        "      <td>   18</td>\n",
        "      <td> 0.000000</td>\n",
        "      <td> 523</td>\n",
        "      <td> 1.000000</td>\n",
        "    </tr>\n",
        "    <tr>\n",
        "      <th>40</th>\n",
        "      <td>    1</td>\n",
        "      <td>   0</td>\n",
        "      <td>    1</td>\n",
        "      <td> 0.000000</td>\n",
        "      <td> 523</td>\n",
        "      <td> 1.000000</td>\n",
        "    </tr>\n",
        "    <tr>\n",
        "      <th>7 </th>\n",
        "      <td>    1</td>\n",
        "      <td>   0</td>\n",
        "      <td>    1</td>\n",
        "      <td> 0.000000</td>\n",
        "      <td> 523</td>\n",
        "      <td> 1.000000</td>\n",
        "    </tr>\n",
        "    <tr>\n",
        "      <th>23</th>\n",
        "      <td>    1</td>\n",
        "      <td>   0</td>\n",
        "      <td>    1</td>\n",
        "      <td> 0.000000</td>\n",
        "      <td> 523</td>\n",
        "      <td> 1.000000</td>\n",
        "    </tr>\n",
        "  </tbody>\n",
        "</table>\n",
        "<p>37 rows \u00d7 6 columns</p>\n",
        "</div>"
       ],
       "output_type": "pyout",
       "prompt_number": 397,
       "text": [
        "         False  True  cluster_size  true_pc_cluster  true_cumsum  true_cumsum_pc\n",
        "cluster                                                                         \n",
        "37           0     1             1         1.000000            1        0.001912\n",
        "10           0     1             1         1.000000            2        0.003824\n",
        "6           89    31           120         0.258333           33        0.063098\n",
        "12          52    18            70         0.257143           51        0.097514\n",
        "35          16     4            20         0.200000           55        0.105163\n",
        "29          73    13            86         0.151163           68        0.130019\n",
        "15         131    21           152         0.138158           89        0.170172\n",
        "21        2275   364          2639         0.137931          453        0.866157\n",
        "24          44     7            51         0.137255          460        0.879541\n",
        "2           84    13            97         0.134021          473        0.904398\n",
        "0           29     4            33         0.121212          477        0.912046\n",
        "22          41     5            46         0.108696          482        0.921606\n",
        "1          147    17           164         0.103659          499        0.954111\n",
        "44          47     5            52         0.096154          504        0.963671\n",
        "16          71     7            78         0.089744          511        0.977055\n",
        "3           51     3            54         0.055556          514        0.982792\n",
        "46          62     3            65         0.046154          517        0.988528\n",
        "31          21     1            22         0.045455          518        0.990440\n",
        "45         106     4           110         0.036364          522        0.998088\n",
        "48          38     1            39         0.025641          523        1.000000\n",
        "20           1     0             1         0.000000          523        1.000000\n",
        "19           1     0             1         0.000000          523        1.000000\n",
        "18          23     0            23         0.000000          523        1.000000\n",
        "30           1     0             1         0.000000          523        1.000000\n",
        "13          31     0            31         0.000000          523        1.000000\n",
        "14           2     0             2         0.000000          523        1.000000\n",
        "38           2     0             2         0.000000          523        1.000000\n",
        "26           3     0             3         0.000000          523        1.000000\n",
        "27           1     0             1         0.000000          523        1.000000\n",
        "25           1     0             1         0.000000          523        1.000000\n",
        "43           2     0             2         0.000000          523        1.000000\n",
        "42           5     0             5         0.000000          523        1.000000\n",
        "41           2     0             2         0.000000          523        1.000000\n",
        "4           18     0            18         0.000000          523        1.000000\n",
        "40           1     0             1         0.000000          523        1.000000\n",
        "7            1     0             1         0.000000          523        1.000000\n",
        "23           1     0             1         0.000000          523        1.000000\n",
        "\n",
        "[37 rows x 6 columns]"
       ]
      }
     ],
     "prompt_number": 397
    },
    {
     "cell_type": "code",
     "collapsed": true,
     "input": [
      "#Drilldown clusters\n",
      "#clust_and_label.columns\n",
      "clust_and_label = clust_and_label.set_index('cluster',drop=False)\n",
      "topN_clust = clust_and_label.loc[table_clusters.index]\n",
      "topN_clust.set_index('comment_id',drop=False,inplace=True)\n",
      "topN_clust_data = pd.merge(df_all_march,topN_clust,how='inner', left_index=True, right_index=True)\n",
      "topN_clust_data.shape\n"
     ],
     "language": "python",
     "metadata": {},
     "outputs": [
      {
       "output_type": "pyout",
       "prompt_number": 399,
       "text": [
        "(3996, 38)"
       ]
      }
     ],
     "prompt_number": 399
    },
    {
     "cell_type": "code",
     "collapsed": false,
     "input": [
      "print features_clust.shape\n",
      "print features.shape\n",
      "print clust_and_label.shape\n"
     ],
     "language": "python",
     "metadata": {},
     "outputs": [
      {
       "output_type": "stream",
       "stream": "stdout",
       "text": [
        "(3986, 5)\n",
        "(3986, 4)\n",
        "(3996, 5)\n"
       ]
      }
     ],
     "prompt_number": 400
    },
    {
     "cell_type": "code",
     "collapsed": false,
     "input": [
      "#Add cluster to feature set\n",
      "\n",
      "features_cluster = features_clust['cluster']\n",
      "\n",
      "from sklearn.feature_extraction import DictVectorizer\n",
      "from sklearn.preprocessing import LabelBinarizer\n",
      "\n",
      "lb = LabelBinarizer()\n",
      "clusters_bn = lb.fit_transform(list(features_cluster.values))\n",
      "lb.classes_\n",
      "\n",
      "sclusters = sp.csc_matrix(clusters_bn)\n",
      "print sclusters.shape\n",
      "print features_posts.shape\n",
      "features_all_cl = sp.hstack([features_posts,features_comments,sclusters])\n",
      "features_all_cl = sp.csc.csc_matrix(features_all_cl)\n",
      "features_all_cl.shape        \n"
     ],
     "language": "python",
     "metadata": {},
     "outputs": [
      {
       "output_type": "stream",
       "stream": "stdout",
       "text": [
        "(3986, 37)\n",
        "(3986, 13005)\n"
       ]
      },
      {
       "output_type": "pyout",
       "prompt_number": 401,
       "text": [
        "(3986, 72356)"
       ]
      }
     ],
     "prompt_number": 401
    },
    {
     "cell_type": "heading",
     "level": 2,
     "metadata": {},
     "source": [
      "Classifier: Train; Evaluate; Predict"
     ]
    },
    {
     "cell_type": "heading",
     "level": 3,
     "metadata": {},
     "source": [
      "Create Target/Labels and Vector Features for Classification"
     ]
    },
    {
     "cell_type": "code",
     "collapsed": false,
     "input": [
      "#Create target/labels\n",
      "target = thislabels2['label'].values\n",
      "target = np.array(list(target))\n"
     ],
     "language": "python",
     "metadata": {},
     "outputs": [],
     "prompt_number": 402
    },
    {
     "cell_type": "heading",
     "level": 3,
     "metadata": {},
     "source": [
      "Run Cross Validation on Labelled Data"
     ]
    },
    {
     "cell_type": "code",
     "collapsed": false,
     "input": [
      "#Task 1: Run cross validation for given model\n",
      "#Metrics, confusion matrix and cross validation\n",
      "from sklearn import metrics\n",
      "labels_unique = np.unique(target)\n",
      "print labels_unique\n",
      "#training_predicted.shape\n",
      "# cm_training = metrics.confusion_matrix(y,training_predicted, labels = labels)\n",
      "print \"Confusion Matrix on training data\"\n",
      "# print cm_training\n",
      "print \"Metrics on full data\"\n",
      "# eval_metrics(y,training_predicted)\n",
      "\n",
      "X = features_all_cl\n",
      "y = target\n",
      "#Do kfold cross validation\n",
      "# clf_eval = Linear(C=1.)\n",
      "\n",
      "from sklearn.linear_model import SGDClassifier\n",
      "# from sklearn.ensemble import RandomForestClassifier\n",
      "\n",
      "\n",
      "clf_eval = SGDClassifier(alpha=0.00001, n_iter=200, penalty='l1')\n",
      "# clf_eval = RandomForestClassifier()\n",
      "\n",
      "n_folds=5\n",
      "scores, cms = kfold_report(n_folds,clf_eval,X,y)\n",
      "\n",
      "print scores\n",
      "print cms\n",
      "\n",
      "\n",
      "\n"
     ],
     "language": "python",
     "metadata": {},
     "outputs": [
      {
       "output_type": "stream",
       "stream": "stdout",
       "text": [
        "[False  True]\n",
        "Confusion Matrix on training data\n",
        "Metrics on full data\n",
        "{'recall': array([ 0.9639898 ,  0.38058252]), 'f1': array([ 0.93778018,  0.46824145]), 'auc': 17.800000000000001, 'precision': array([ 0.91298598,  0.61119939]), 'accuracy': 0.88861048480674698}"
       ]
      },
      {
       "output_type": "stream",
       "stream": "stdout",
       "text": [
        "\n",
        "[[3345  125]\n",
        " [ 315  195]]\n"
       ]
      }
     ],
     "prompt_number": 406
    },
    {
     "cell_type": "code",
     "collapsed": false,
     "input": [
      "print len(target)\n",
      "pd.Series(target).value_counts()"
     ],
     "language": "python",
     "metadata": {},
     "outputs": []
    },
    {
     "cell_type": "code",
     "collapsed": false,
     "input": [
      "(515./3471)"
     ],
     "language": "python",
     "metadata": {},
     "outputs": []
    },
    {
     "cell_type": "heading",
     "level": 3,
     "metadata": {},
     "source": [
      "Do Feature Selection and Run Classifier with Reduced Features"
     ]
    },
    {
     "cell_type": "code",
     "collapsed": false,
     "input": [
      "#Feature selection\n",
      "from sklearn.feature_selection import SelectKBest, SelectPercentile, chi2\n",
      "from sklearn.ensemble import RandomForestClassifier\n",
      "\n",
      "fs = SelectKBest(score_func=chi2,k=3000)\n",
      "X_red = fs.fit_transform(X,y)\n",
      "\n",
      "\n",
      "\n",
      "clf_eval_fs = SGDClassifier(alpha=0.00001, n_iter=50, penalty='l1')\n",
      "clf_eval_fs = RandomForestClassifier(n_estimators=10, n_jobs=-1)\n",
      "#This will blow memory with a lot of features\n",
      "X_red = X_red.todense()\n",
      "\n",
      "\n",
      "n_folds=5\n",
      "scores, cm = kfold_report(n_folds,clf_eval,X_red,y)\n",
      "print scores\n",
      "print cm"
     ],
     "language": "python",
     "metadata": {},
     "outputs": [
      {
       "output_type": "stream",
       "stream": "stdout",
       "text": [
        "{'recall': array([ 0.99423756,  0.20582524]), 'f1': array([ 0.94148129,  0.33039588]), 'auc': 5.7999999999999998, 'precision': array([ 0.89404626,  0.84347505]), 'accuracy': 0.89237271346496738}\n",
        "[[3450   20]\n",
        " [ 405  105]]\n"
       ]
      }
     ],
     "prompt_number": 306
    },
    {
     "cell_type": "code",
     "collapsed": false,
     "input": [
      "#Look at top 10 features\n",
      "feature_red = fs.get_support()\n",
      "feature_red.shape"
     ],
     "language": "python",
     "metadata": {},
     "outputs": []
    },
    {
     "cell_type": "heading",
     "level": 3,
     "metadata": {},
     "source": [
      "Predict on Full Data Set"
     ]
    },
    {
     "cell_type": "code",
     "collapsed": true,
     "input": [
      "#Create Features using vectorisers already fitted\n",
      "comments_full = vectoriser_training.transform(df_all_march['message_comments'],)\n",
      "posts_full = vectoriser_posts.transform(df_all_march['message'])\n",
      "pages_full = lb.transform(list(df_all_march['page_url'].values))\n"
     ],
     "language": "python",
     "metadata": {},
     "outputs": [
      {
       "output_type": "stream",
       "stream": "stdout",
       "text": [
        "(441940, 59314)\n",
        "(441940, 13005)\n",
        "(441940, 20)\n",
        "(441940, 72339)\n"
       ]
      }
     ],
     "prompt_number": 292
    },
    {
     "cell_type": "code",
     "collapsed": false,
     "input": [
      "features_full_all = sp.hstack([posts_full, comments_full])\n",
      "print comments_full.shape\n",
      "print posts_full.shape\n",
      "print pages_full.shape\n",
      "print features_full_all.shape"
     ],
     "language": "python",
     "metadata": {},
     "outputs": [
      {
       "output_type": "stream",
       "stream": "stdout",
       "text": [
        "(441940, 59314)\n",
        "(441940, 13005)\n",
        "(441940, 20)\n",
        "(441940, 72319)\n"
       ]
      }
     ],
     "prompt_number": 408
    },
    {
     "cell_type": "code",
     "collapsed": false,
     "input": [
      "#test parallel tran"
     ],
     "language": "python",
     "metadata": {},
     "outputs": []
    },
    {
     "cell_type": "code",
     "collapsed": false,
     "input": [
      "clusters_full_label = mbk.predict(features_full_all)\n",
      "clusters_full_label.shape\n",
      "np.unique(clusters_full_label)"
     ],
     "language": "python",
     "metadata": {},
     "outputs": [
      {
       "output_type": "pyout",
       "prompt_number": 409,
       "text": [
        "array([ 0,  1,  2,  3,  4,  6,  7, 10, 12, 13, 14, 15, 16, 18, 19, 20, 21,\n",
        "       22, 23, 24, 25, 26, 27, 29, 30, 31, 35, 37, 38, 40, 41, 42, 43, 44,\n",
        "       45, 46, 48], dtype=int32)"
       ]
      }
     ],
     "prompt_number": 409
    },
    {
     "cell_type": "code",
     "collapsed": false,
     "input": [
      "#Add clusters to featurs\n",
      "#lb_full = LabelBinarizer()\n",
      "clusters_full_bn = lb.transform(clusters_full_label)\n",
      "print clusters_full_bn.shape\n",
      "\n",
      "sclusters_full = sp.csc_matrix(clusters_full_bn)\n",
      "features_full_all = sp.hstack([posts_full,comments_full,sclusters_full])\n",
      "features_full_all = sp.csc.csc_matrix(features_full_all)\n",
      "features_full_all.shape    \n"
     ],
     "language": "python",
     "metadata": {},
     "outputs": [
      {
       "output_type": "stream",
       "stream": "stdout",
       "text": [
        "(441940, 37)\n"
       ]
      },
      {
       "output_type": "pyout",
       "prompt_number": 410,
       "text": [
        "(441940, 72356)"
       ]
      }
     ],
     "prompt_number": 410
    },
    {
     "cell_type": "code",
     "collapsed": false,
     "input": [
      "#Predict on Full\n",
      "#fs.transform(features_full_all)\n",
      "#pred_full = clf_eval.predict(fs.transform(features_full_all))\n",
      "pred_full = clf_eval.predict(features_full_all)\n",
      "pd.DataFrame(pred_full).groupby(0).size()\n",
      "#pred_trues_id = df_all_march[pred_full]\n",
      "#pred_trues_id.shape"
     ],
     "language": "python",
     "metadata": {},
     "outputs": [
      {
       "output_type": "pyout",
       "prompt_number": 411,
       "text": [
        "0\n",
        "False    375655\n",
        "True      66285\n",
        "dtype: int64"
       ]
      }
     ],
     "prompt_number": 411
    },
    {
     "cell_type": "code",
     "collapsed": false,
     "input": [
      "len(pred_full)#*0.148"
     ],
     "language": "python",
     "metadata": {},
     "outputs": []
    },
    {
     "cell_type": "heading",
     "level": 2,
     "metadata": {},
     "source": [
      "Resample From Prediction and Send For Labelling"
     ]
    },
    {
     "cell_type": "code",
     "collapsed": false,
     "input": [
      "#Sample from predicted trues and falses\n",
      "labels_preds = df_all_march[['page_url']]\n",
      "labels_preds['label']=pred_full\n",
      "\n",
      "#remove already labelled\n",
      "unlabelled_index = labels_preds.index - thislabels.index\n",
      "label_preds = labels_preds.loc[unlabelled_index]\n",
      "\n",
      "labels_preds_true = labels_preds[labels_preds['label']==True]\n",
      "labels_preds_true\n",
      "#Filter labels\n",
      "trues = df_all_march.loc[labels_preds_true.index]\n",
      "\n"
     ],
     "language": "python",
     "metadata": {},
     "outputs": [],
     "prompt_number": 412
    },
    {
     "cell_type": "code",
     "collapsed": false,
     "input": [
      "#Do sample per group of labels\n",
      "sample_true = sample_proportions(thislabels2, trues, sample_size = 2000, proportion_weighted=0.01, block_size=20, top_N=5)"
     ],
     "language": "python",
     "metadata": {},
     "outputs": [
      {
       "output_type": "stream",
       "stream": "stdout",
       "text": [
        "KTNKenya            6\n",
        "NTVKenya            6\n",
        "DailyNation         5\n",
        "K24TVNews           0\n",
        "standardkenya       0\n",
        "restofsample     1983\n",
        "dtype: float64\n",
        "KTNKenya"
       ]
      },
      {
       "output_type": "stream",
       "stream": "stdout",
       "text": [
        " 27202\n",
        "NTVKenya 14184\n",
        "DailyNation"
       ]
      },
      {
       "output_type": "stream",
       "stream": "stdout",
       "text": [
        " 7810\n",
        "K24TVNews 2101\n",
        "standardkenya 3246\n",
        "restofsample"
       ]
      },
      {
       "output_type": "stream",
       "stream": "stdout",
       "text": [
        " 65790\n"
       ]
      }
     ],
     "prompt_number": 413
    },
    {
     "cell_type": "code",
     "collapsed": false,
     "input": [
      "df_all_march[['comment_id','page_url','message_comments','message']].loc[sample_true].iloc[40:80]"
     ],
     "language": "python",
     "metadata": {},
     "outputs": [
      {
       "html": [
        "<div style=\"max-height:1000px;max-width:1500px;overflow:auto;\">\n",
        "<table border=\"1\" class=\"dataframe\">\n",
        "  <thead>\n",
        "    <tr style=\"text-align: right;\">\n",
        "      <th></th>\n",
        "      <th>comment_id</th>\n",
        "      <th>page_url</th>\n",
        "      <th>message_comments</th>\n",
        "      <th>message</th>\n",
        "    </tr>\n",
        "    <tr>\n",
        "      <th>comment_id</th>\n",
        "      <th></th>\n",
        "      <th></th>\n",
        "      <th></th>\n",
        "      <th></th>\n",
        "    </tr>\n",
        "  </thead>\n",
        "  <tbody>\n",
        "    <tr>\n",
        "      <th>10151156134394058_24427269</th>\n",
        "      <td> 10151156134394058_24427269</td>\n",
        "      <td> NTVKenya</td>\n",
        "      <td>                                                                                                                                        hapa ni kesho waache kutuenjoy.</td>\n",
        "      <td> Remaining constituencies:\\n\\nNarok North, Narok South, Narok West, Belgut, Konoin, Navakholo, Ikolomani, Sabatia, Luanda, Baringo North, Baringo South, Laikipia North, Molo, Njoro, Bahati, Nakuru Town West, \\n\\nKilgoris and Emurua Dikirr Webuye West, Tongaren, Teso North, Maara, Chuka/Igambang\u2019ombe, Tharaka, Manyata, Mbeere South, Kitui West, Kitui Rural, Kangundo, Matungulu, Mwala, Kibwezi East and Kibwezi West \\n\\nKapenguria, Samburu West, Samburu North, Samburu East, Endebess, Saboti, Turbo, Kesses, Marakwet East, Marakwet West, Tiaty, Ol Kalou, Teso South, Funyula, Rangwe and Ndhiwa.\\n\\n Suna East, Suna West, West Mugirango, Mathare, Lare, Fafi, Ijara, Eldas, Lafey, Laisamis, Isiolo North, Ndaragwa, Kieni, Othaya, Kangema, Loima, Turkana South, Turkana East,</td>\n",
        "    </tr>\n",
        "    <tr>\n",
        "      <th>10151156134394058_24427287</th>\n",
        "      <td> 10151156134394058_24427287</td>\n",
        "      <td> NTVKenya</td>\n",
        "      <td>                                           You sick...Kesses done, Turbo done, saboti done.....am surprised that a leading media house is relying on hear says...NKTAKO</td>\n",
        "      <td> Remaining constituencies:\\n\\nNarok North, Narok South, Narok West, Belgut, Konoin, Navakholo, Ikolomani, Sabatia, Luanda, Baringo North, Baringo South, Laikipia North, Molo, Njoro, Bahati, Nakuru Town West, \\n\\nKilgoris and Emurua Dikirr Webuye West, Tongaren, Teso North, Maara, Chuka/Igambang\u2019ombe, Tharaka, Manyata, Mbeere South, Kitui West, Kitui Rural, Kangundo, Matungulu, Mwala, Kibwezi East and Kibwezi West \\n\\nKapenguria, Samburu West, Samburu North, Samburu East, Endebess, Saboti, Turbo, Kesses, Marakwet East, Marakwet West, Tiaty, Ol Kalou, Teso South, Funyula, Rangwe and Ndhiwa.\\n\\n Suna East, Suna West, West Mugirango, Mathare, Lare, Fafi, Ijara, Eldas, Lafey, Laisamis, Isiolo North, Ndaragwa, Kieni, Othaya, Kangema, Loima, Turkana South, Turkana East,</td>\n",
        "    </tr>\n",
        "    <tr>\n",
        "      <th>10151156134394058_24427328</th>\n",
        "      <td> 10151156134394058_24427328</td>\n",
        "      <td> NTVKenya</td>\n",
        "      <td>                                                                                                                                                   hizi xote ni jubilee</td>\n",
        "      <td> Remaining constituencies:\\n\\nNarok North, Narok South, Narok West, Belgut, Konoin, Navakholo, Ikolomani, Sabatia, Luanda, Baringo North, Baringo South, Laikipia North, Molo, Njoro, Bahati, Nakuru Town West, \\n\\nKilgoris and Emurua Dikirr Webuye West, Tongaren, Teso North, Maara, Chuka/Igambang\u2019ombe, Tharaka, Manyata, Mbeere South, Kitui West, Kitui Rural, Kangundo, Matungulu, Mwala, Kibwezi East and Kibwezi West \\n\\nKapenguria, Samburu West, Samburu North, Samburu East, Endebess, Saboti, Turbo, Kesses, Marakwet East, Marakwet West, Tiaty, Ol Kalou, Teso South, Funyula, Rangwe and Ndhiwa.\\n\\n Suna East, Suna West, West Mugirango, Mathare, Lare, Fafi, Ijara, Eldas, Lafey, Laisamis, Isiolo North, Ndaragwa, Kieni, Othaya, Kangema, Loima, Turkana South, Turkana East,</td>\n",
        "    </tr>\n",
        "    <tr>\n",
        "      <th>10151156134394058_24427357</th>\n",
        "      <td> 10151156134394058_24427357</td>\n",
        "      <td> NTVKenya</td>\n",
        "      <td>                                                                                                                                Uhuru ingia state house c ulizaliwa uko</td>\n",
        "      <td> Remaining constituencies:\\n\\nNarok North, Narok South, Narok West, Belgut, Konoin, Navakholo, Ikolomani, Sabatia, Luanda, Baringo North, Baringo South, Laikipia North, Molo, Njoro, Bahati, Nakuru Town West, \\n\\nKilgoris and Emurua Dikirr Webuye West, Tongaren, Teso North, Maara, Chuka/Igambang\u2019ombe, Tharaka, Manyata, Mbeere South, Kitui West, Kitui Rural, Kangundo, Matungulu, Mwala, Kibwezi East and Kibwezi West \\n\\nKapenguria, Samburu West, Samburu North, Samburu East, Endebess, Saboti, Turbo, Kesses, Marakwet East, Marakwet West, Tiaty, Ol Kalou, Teso South, Funyula, Rangwe and Ndhiwa.\\n\\n Suna East, Suna West, West Mugirango, Mathare, Lare, Fafi, Ijara, Eldas, Lafey, Laisamis, Isiolo North, Ndaragwa, Kieni, Othaya, Kangema, Loima, Turkana South, Turkana East,</td>\n",
        "    </tr>\n",
        "    <tr>\n",
        "      <th>10151156134394058_24427366</th>\n",
        "      <td> 10151156134394058_24427366</td>\n",
        "      <td> NTVKenya</td>\n",
        "      <td>                                                                                                                                             kabisa    iko  u tu  sana.</td>\n",
        "      <td> Remaining constituencies:\\n\\nNarok North, Narok South, Narok West, Belgut, Konoin, Navakholo, Ikolomani, Sabatia, Luanda, Baringo North, Baringo South, Laikipia North, Molo, Njoro, Bahati, Nakuru Town West, \\n\\nKilgoris and Emurua Dikirr Webuye West, Tongaren, Teso North, Maara, Chuka/Igambang\u2019ombe, Tharaka, Manyata, Mbeere South, Kitui West, Kitui Rural, Kangundo, Matungulu, Mwala, Kibwezi East and Kibwezi West \\n\\nKapenguria, Samburu West, Samburu North, Samburu East, Endebess, Saboti, Turbo, Kesses, Marakwet East, Marakwet West, Tiaty, Ol Kalou, Teso South, Funyula, Rangwe and Ndhiwa.\\n\\n Suna East, Suna West, West Mugirango, Mathare, Lare, Fafi, Ijara, Eldas, Lafey, Laisamis, Isiolo North, Ndaragwa, Kieni, Othaya, Kangema, Loima, Turkana South, Turkana East,</td>\n",
        "    </tr>\n",
        "    <tr>\n",
        "      <th>10151156134394058_24427386</th>\n",
        "      <td> 10151156134394058_24427386</td>\n",
        "      <td> NTVKenya</td>\n",
        "      <td>                                                                                                                                                        cord, i concede</td>\n",
        "      <td> Remaining constituencies:\\n\\nNarok North, Narok South, Narok West, Belgut, Konoin, Navakholo, Ikolomani, Sabatia, Luanda, Baringo North, Baringo South, Laikipia North, Molo, Njoro, Bahati, Nakuru Town West, \\n\\nKilgoris and Emurua Dikirr Webuye West, Tongaren, Teso North, Maara, Chuka/Igambang\u2019ombe, Tharaka, Manyata, Mbeere South, Kitui West, Kitui Rural, Kangundo, Matungulu, Mwala, Kibwezi East and Kibwezi West \\n\\nKapenguria, Samburu West, Samburu North, Samburu East, Endebess, Saboti, Turbo, Kesses, Marakwet East, Marakwet West, Tiaty, Ol Kalou, Teso South, Funyula, Rangwe and Ndhiwa.\\n\\n Suna East, Suna West, West Mugirango, Mathare, Lare, Fafi, Ijara, Eldas, Lafey, Laisamis, Isiolo North, Ndaragwa, Kieni, Othaya, Kangema, Loima, Turkana South, Turkana East,</td>\n",
        "    </tr>\n",
        "    <tr>\n",
        "      <th>10151156134394058_24427389</th>\n",
        "      <td> 10151156134394058_24427389</td>\n",
        "      <td> NTVKenya</td>\n",
        "      <td>                                                                    ntv hiyo ni uwongo hata kama mimi ni wa jubilee mnatupotosha.....Maeneo mengi hapo yameshaa tajwa..</td>\n",
        "      <td> Remaining constituencies:\\n\\nNarok North, Narok South, Narok West, Belgut, Konoin, Navakholo, Ikolomani, Sabatia, Luanda, Baringo North, Baringo South, Laikipia North, Molo, Njoro, Bahati, Nakuru Town West, \\n\\nKilgoris and Emurua Dikirr Webuye West, Tongaren, Teso North, Maara, Chuka/Igambang\u2019ombe, Tharaka, Manyata, Mbeere South, Kitui West, Kitui Rural, Kangundo, Matungulu, Mwala, Kibwezi East and Kibwezi West \\n\\nKapenguria, Samburu West, Samburu North, Samburu East, Endebess, Saboti, Turbo, Kesses, Marakwet East, Marakwet West, Tiaty, Ol Kalou, Teso South, Funyula, Rangwe and Ndhiwa.\\n\\n Suna East, Suna West, West Mugirango, Mathare, Lare, Fafi, Ijara, Eldas, Lafey, Laisamis, Isiolo North, Ndaragwa, Kieni, Othaya, Kangema, Loima, Turkana South, Turkana East,</td>\n",
        "    </tr>\n",
        "    <tr>\n",
        "      <th>10151156134394058_24427408</th>\n",
        "      <td> 10151156134394058_24427408</td>\n",
        "      <td> NTVKenya</td>\n",
        "      <td>                                                                                                                                There's mo light at da end of da tunnel</td>\n",
        "      <td> Remaining constituencies:\\n\\nNarok North, Narok South, Narok West, Belgut, Konoin, Navakholo, Ikolomani, Sabatia, Luanda, Baringo North, Baringo South, Laikipia North, Molo, Njoro, Bahati, Nakuru Town West, \\n\\nKilgoris and Emurua Dikirr Webuye West, Tongaren, Teso North, Maara, Chuka/Igambang\u2019ombe, Tharaka, Manyata, Mbeere South, Kitui West, Kitui Rural, Kangundo, Matungulu, Mwala, Kibwezi East and Kibwezi West \\n\\nKapenguria, Samburu West, Samburu North, Samburu East, Endebess, Saboti, Turbo, Kesses, Marakwet East, Marakwet West, Tiaty, Ol Kalou, Teso South, Funyula, Rangwe and Ndhiwa.\\n\\n Suna East, Suna West, West Mugirango, Mathare, Lare, Fafi, Ijara, Eldas, Lafey, Laisamis, Isiolo North, Ndaragwa, Kieni, Othaya, Kangema, Loima, Turkana South, Turkana East,</td>\n",
        "    </tr>\n",
        "    <tr>\n",
        "      <th>10151156134394058_24427450</th>\n",
        "      <td> 10151156134394058_24427450</td>\n",
        "      <td> NTVKenya</td>\n",
        "      <td> si you just say who is winning kuliko ku post hii this saying it indirect na wakenya tuko na vitu mobza kufikiria say it straight Uhuru Kenyatta has won is it so hard</td>\n",
        "      <td> Remaining constituencies:\\n\\nNarok North, Narok South, Narok West, Belgut, Konoin, Navakholo, Ikolomani, Sabatia, Luanda, Baringo North, Baringo South, Laikipia North, Molo, Njoro, Bahati, Nakuru Town West, \\n\\nKilgoris and Emurua Dikirr Webuye West, Tongaren, Teso North, Maara, Chuka/Igambang\u2019ombe, Tharaka, Manyata, Mbeere South, Kitui West, Kitui Rural, Kangundo, Matungulu, Mwala, Kibwezi East and Kibwezi West \\n\\nKapenguria, Samburu West, Samburu North, Samburu East, Endebess, Saboti, Turbo, Kesses, Marakwet East, Marakwet West, Tiaty, Ol Kalou, Teso South, Funyula, Rangwe and Ndhiwa.\\n\\n Suna East, Suna West, West Mugirango, Mathare, Lare, Fafi, Ijara, Eldas, Lafey, Laisamis, Isiolo North, Ndaragwa, Kieni, Othaya, Kangema, Loima, Turkana South, Turkana East,</td>\n",
        "    </tr>\n",
        "    <tr>\n",
        "      <th>10151156134394058_24427460</th>\n",
        "      <td> 10151156134394058_24427460</td>\n",
        "      <td> NTVKenya</td>\n",
        "      <td>                                                                                                              mbona wenye wako na majina zimeanza na \"o\" ndio wanateta?</td>\n",
        "      <td> Remaining constituencies:\\n\\nNarok North, Narok South, Narok West, Belgut, Konoin, Navakholo, Ikolomani, Sabatia, Luanda, Baringo North, Baringo South, Laikipia North, Molo, Njoro, Bahati, Nakuru Town West, \\n\\nKilgoris and Emurua Dikirr Webuye West, Tongaren, Teso North, Maara, Chuka/Igambang\u2019ombe, Tharaka, Manyata, Mbeere South, Kitui West, Kitui Rural, Kangundo, Matungulu, Mwala, Kibwezi East and Kibwezi West \\n\\nKapenguria, Samburu West, Samburu North, Samburu East, Endebess, Saboti, Turbo, Kesses, Marakwet East, Marakwet West, Tiaty, Ol Kalou, Teso South, Funyula, Rangwe and Ndhiwa.\\n\\n Suna East, Suna West, West Mugirango, Mathare, Lare, Fafi, Ijara, Eldas, Lafey, Laisamis, Isiolo North, Ndaragwa, Kieni, Othaya, Kangema, Loima, Turkana South, Turkana East,</td>\n",
        "    </tr>\n",
        "    <tr>\n",
        "      <th>10151156134394058_24427464</th>\n",
        "      <td> 10151156134394058_24427464</td>\n",
        "      <td> NTVKenya</td>\n",
        "      <td>                                                                                                                                                          Ni kundialala</td>\n",
        "      <td> Remaining constituencies:\\n\\nNarok North, Narok South, Narok West, Belgut, Konoin, Navakholo, Ikolomani, Sabatia, Luanda, Baringo North, Baringo South, Laikipia North, Molo, Njoro, Bahati, Nakuru Town West, \\n\\nKilgoris and Emurua Dikirr Webuye West, Tongaren, Teso North, Maara, Chuka/Igambang\u2019ombe, Tharaka, Manyata, Mbeere South, Kitui West, Kitui Rural, Kangundo, Matungulu, Mwala, Kibwezi East and Kibwezi West \\n\\nKapenguria, Samburu West, Samburu North, Samburu East, Endebess, Saboti, Turbo, Kesses, Marakwet East, Marakwet West, Tiaty, Ol Kalou, Teso South, Funyula, Rangwe and Ndhiwa.\\n\\n Suna East, Suna West, West Mugirango, Mathare, Lare, Fafi, Ijara, Eldas, Lafey, Laisamis, Isiolo North, Ndaragwa, Kieni, Othaya, Kangema, Loima, Turkana South, Turkana East,</td>\n",
        "    </tr>\n",
        "    <tr>\n",
        "      <th>10151156134394058_24427487</th>\n",
        "      <td> 10151156134394058_24427487</td>\n",
        "      <td> NTVKenya</td>\n",
        "      <td>                                                                                                       Marakwet East na west Jumla 150000 votes for Uhuru another bomb.</td>\n",
        "      <td> Remaining constituencies:\\n\\nNarok North, Narok South, Narok West, Belgut, Konoin, Navakholo, Ikolomani, Sabatia, Luanda, Baringo North, Baringo South, Laikipia North, Molo, Njoro, Bahati, Nakuru Town West, \\n\\nKilgoris and Emurua Dikirr Webuye West, Tongaren, Teso North, Maara, Chuka/Igambang\u2019ombe, Tharaka, Manyata, Mbeere South, Kitui West, Kitui Rural, Kangundo, Matungulu, Mwala, Kibwezi East and Kibwezi West \\n\\nKapenguria, Samburu West, Samburu North, Samburu East, Endebess, Saboti, Turbo, Kesses, Marakwet East, Marakwet West, Tiaty, Ol Kalou, Teso South, Funyula, Rangwe and Ndhiwa.\\n\\n Suna East, Suna West, West Mugirango, Mathare, Lare, Fafi, Ijara, Eldas, Lafey, Laisamis, Isiolo North, Ndaragwa, Kieni, Othaya, Kangema, Loima, Turkana South, Turkana East,</td>\n",
        "    </tr>\n",
        "    <tr>\n",
        "      <th>10151156134394058_24427492</th>\n",
        "      <td> 10151156134394058_24427492</td>\n",
        "      <td> NTVKenya</td>\n",
        "      <td>                                                           mjama anasema uhuru arudi sttatehouse mahali alizaliwa wengine tuende wapi. Kenya iznt hereditary my friend.</td>\n",
        "      <td> Remaining constituencies:\\n\\nNarok North, Narok South, Narok West, Belgut, Konoin, Navakholo, Ikolomani, Sabatia, Luanda, Baringo North, Baringo South, Laikipia North, Molo, Njoro, Bahati, Nakuru Town West, \\n\\nKilgoris and Emurua Dikirr Webuye West, Tongaren, Teso North, Maara, Chuka/Igambang\u2019ombe, Tharaka, Manyata, Mbeere South, Kitui West, Kitui Rural, Kangundo, Matungulu, Mwala, Kibwezi East and Kibwezi West \\n\\nKapenguria, Samburu West, Samburu North, Samburu East, Endebess, Saboti, Turbo, Kesses, Marakwet East, Marakwet West, Tiaty, Ol Kalou, Teso South, Funyula, Rangwe and Ndhiwa.\\n\\n Suna East, Suna West, West Mugirango, Mathare, Lare, Fafi, Ijara, Eldas, Lafey, Laisamis, Isiolo North, Ndaragwa, Kieni, Othaya, Kangema, Loima, Turkana South, Turkana East,</td>\n",
        "    </tr>\n",
        "    <tr>\n",
        "      <th>10151156134394058_24427505</th>\n",
        "      <td> 10151156134394058_24427505</td>\n",
        "      <td> NTVKenya</td>\n",
        "      <td>                                                                                                                          Am Corded na si pendi ukabila sababu ni chuki</td>\n",
        "      <td> Remaining constituencies:\\n\\nNarok North, Narok South, Narok West, Belgut, Konoin, Navakholo, Ikolomani, Sabatia, Luanda, Baringo North, Baringo South, Laikipia North, Molo, Njoro, Bahati, Nakuru Town West, \\n\\nKilgoris and Emurua Dikirr Webuye West, Tongaren, Teso North, Maara, Chuka/Igambang\u2019ombe, Tharaka, Manyata, Mbeere South, Kitui West, Kitui Rural, Kangundo, Matungulu, Mwala, Kibwezi East and Kibwezi West \\n\\nKapenguria, Samburu West, Samburu North, Samburu East, Endebess, Saboti, Turbo, Kesses, Marakwet East, Marakwet West, Tiaty, Ol Kalou, Teso South, Funyula, Rangwe and Ndhiwa.\\n\\n Suna East, Suna West, West Mugirango, Mathare, Lare, Fafi, Ijara, Eldas, Lafey, Laisamis, Isiolo North, Ndaragwa, Kieni, Othaya, Kangema, Loima, Turkana South, Turkana East,</td>\n",
        "    </tr>\n",
        "    <tr>\n",
        "      <th>10151156134394058_24427519</th>\n",
        "      <td> 10151156134394058_24427519</td>\n",
        "      <td> NTVKenya</td>\n",
        "      <td>                                                                                                                                      pamela fafi na lafey ni N.eastern</td>\n",
        "      <td> Remaining constituencies:\\n\\nNarok North, Narok South, Narok West, Belgut, Konoin, Navakholo, Ikolomani, Sabatia, Luanda, Baringo North, Baringo South, Laikipia North, Molo, Njoro, Bahati, Nakuru Town West, \\n\\nKilgoris and Emurua Dikirr Webuye West, Tongaren, Teso North, Maara, Chuka/Igambang\u2019ombe, Tharaka, Manyata, Mbeere South, Kitui West, Kitui Rural, Kangundo, Matungulu, Mwala, Kibwezi East and Kibwezi West \\n\\nKapenguria, Samburu West, Samburu North, Samburu East, Endebess, Saboti, Turbo, Kesses, Marakwet East, Marakwet West, Tiaty, Ol Kalou, Teso South, Funyula, Rangwe and Ndhiwa.\\n\\n Suna East, Suna West, West Mugirango, Mathare, Lare, Fafi, Ijara, Eldas, Lafey, Laisamis, Isiolo North, Ndaragwa, Kieni, Othaya, Kangema, Loima, Turkana South, Turkana East,</td>\n",
        "    </tr>\n",
        "    <tr>\n",
        "      <th>10151156134394058_24427529</th>\n",
        "      <td> 10151156134394058_24427529</td>\n",
        "      <td> NTVKenya</td>\n",
        "      <td>                                                                                           3/4 of tiz ni jubilee no way 4them its automaticaly 52.3% tym wil teach them</td>\n",
        "      <td> Remaining constituencies:\\n\\nNarok North, Narok South, Narok West, Belgut, Konoin, Navakholo, Ikolomani, Sabatia, Luanda, Baringo North, Baringo South, Laikipia North, Molo, Njoro, Bahati, Nakuru Town West, \\n\\nKilgoris and Emurua Dikirr Webuye West, Tongaren, Teso North, Maara, Chuka/Igambang\u2019ombe, Tharaka, Manyata, Mbeere South, Kitui West, Kitui Rural, Kangundo, Matungulu, Mwala, Kibwezi East and Kibwezi West \\n\\nKapenguria, Samburu West, Samburu North, Samburu East, Endebess, Saboti, Turbo, Kesses, Marakwet East, Marakwet West, Tiaty, Ol Kalou, Teso South, Funyula, Rangwe and Ndhiwa.\\n\\n Suna East, Suna West, West Mugirango, Mathare, Lare, Fafi, Ijara, Eldas, Lafey, Laisamis, Isiolo North, Ndaragwa, Kieni, Othaya, Kangema, Loima, Turkana South, Turkana East,</td>\n",
        "    </tr>\n",
        "    <tr>\n",
        "      <th>10151156134394058_24427530</th>\n",
        "      <td> 10151156134394058_24427530</td>\n",
        "      <td> NTVKenya</td>\n",
        "      <td>                                                                                                                                 if i were raila ningefanya kama romney</td>\n",
        "      <td> Remaining constituencies:\\n\\nNarok North, Narok South, Narok West, Belgut, Konoin, Navakholo, Ikolomani, Sabatia, Luanda, Baringo North, Baringo South, Laikipia North, Molo, Njoro, Bahati, Nakuru Town West, \\n\\nKilgoris and Emurua Dikirr Webuye West, Tongaren, Teso North, Maara, Chuka/Igambang\u2019ombe, Tharaka, Manyata, Mbeere South, Kitui West, Kitui Rural, Kangundo, Matungulu, Mwala, Kibwezi East and Kibwezi West \\n\\nKapenguria, Samburu West, Samburu North, Samburu East, Endebess, Saboti, Turbo, Kesses, Marakwet East, Marakwet West, Tiaty, Ol Kalou, Teso South, Funyula, Rangwe and Ndhiwa.\\n\\n Suna East, Suna West, West Mugirango, Mathare, Lare, Fafi, Ijara, Eldas, Lafey, Laisamis, Isiolo North, Ndaragwa, Kieni, Othaya, Kangema, Loima, Turkana South, Turkana East,</td>\n",
        "    </tr>\n",
        "    <tr>\n",
        "      <th>10151156134394058_24427532</th>\n",
        "      <td> 10151156134394058_24427532</td>\n",
        "      <td> NTVKenya</td>\n",
        "      <td>                                                     Pamela Chepngetich Omanga Fafi na Lafey ziko North eastern Karibu na mpaka wa Kenya na Somalia.Niko hapa sasa hivi</td>\n",
        "      <td> Remaining constituencies:\\n\\nNarok North, Narok South, Narok West, Belgut, Konoin, Navakholo, Ikolomani, Sabatia, Luanda, Baringo North, Baringo South, Laikipia North, Molo, Njoro, Bahati, Nakuru Town West, \\n\\nKilgoris and Emurua Dikirr Webuye West, Tongaren, Teso North, Maara, Chuka/Igambang\u2019ombe, Tharaka, Manyata, Mbeere South, Kitui West, Kitui Rural, Kangundo, Matungulu, Mwala, Kibwezi East and Kibwezi West \\n\\nKapenguria, Samburu West, Samburu North, Samburu East, Endebess, Saboti, Turbo, Kesses, Marakwet East, Marakwet West, Tiaty, Ol Kalou, Teso South, Funyula, Rangwe and Ndhiwa.\\n\\n Suna East, Suna West, West Mugirango, Mathare, Lare, Fafi, Ijara, Eldas, Lafey, Laisamis, Isiolo North, Ndaragwa, Kieni, Othaya, Kangema, Loima, Turkana South, Turkana East,</td>\n",
        "    </tr>\n",
        "    <tr>\n",
        "      <th>10151156134394058_24427534</th>\n",
        "      <td> 10151156134394058_24427534</td>\n",
        "      <td> NTVKenya</td>\n",
        "      <td>                                                                                                       the race is now btwn jubilee n 50%+1 votes hawa wengine wamehara</td>\n",
        "      <td> Remaining constituencies:\\n\\nNarok North, Narok South, Narok West, Belgut, Konoin, Navakholo, Ikolomani, Sabatia, Luanda, Baringo North, Baringo South, Laikipia North, Molo, Njoro, Bahati, Nakuru Town West, \\n\\nKilgoris and Emurua Dikirr Webuye West, Tongaren, Teso North, Maara, Chuka/Igambang\u2019ombe, Tharaka, Manyata, Mbeere South, Kitui West, Kitui Rural, Kangundo, Matungulu, Mwala, Kibwezi East and Kibwezi West \\n\\nKapenguria, Samburu West, Samburu North, Samburu East, Endebess, Saboti, Turbo, Kesses, Marakwet East, Marakwet West, Tiaty, Ol Kalou, Teso South, Funyula, Rangwe and Ndhiwa.\\n\\n Suna East, Suna West, West Mugirango, Mathare, Lare, Fafi, Ijara, Eldas, Lafey, Laisamis, Isiolo North, Ndaragwa, Kieni, Othaya, Kangema, Loima, Turkana South, Turkana East,</td>\n",
        "    </tr>\n",
        "    <tr>\n",
        "      <th>10151156134394058_24427552</th>\n",
        "      <td> 10151156134394058_24427552</td>\n",
        "      <td> NTVKenya</td>\n",
        "      <td>                                                                                                                                                  Most place ni jubilee</td>\n",
        "      <td> Remaining constituencies:\\n\\nNarok North, Narok South, Narok West, Belgut, Konoin, Navakholo, Ikolomani, Sabatia, Luanda, Baringo North, Baringo South, Laikipia North, Molo, Njoro, Bahati, Nakuru Town West, \\n\\nKilgoris and Emurua Dikirr Webuye West, Tongaren, Teso North, Maara, Chuka/Igambang\u2019ombe, Tharaka, Manyata, Mbeere South, Kitui West, Kitui Rural, Kangundo, Matungulu, Mwala, Kibwezi East and Kibwezi West \\n\\nKapenguria, Samburu West, Samburu North, Samburu East, Endebess, Saboti, Turbo, Kesses, Marakwet East, Marakwet West, Tiaty, Ol Kalou, Teso South, Funyula, Rangwe and Ndhiwa.\\n\\n Suna East, Suna West, West Mugirango, Mathare, Lare, Fafi, Ijara, Eldas, Lafey, Laisamis, Isiolo North, Ndaragwa, Kieni, Othaya, Kangema, Loima, Turkana South, Turkana East,</td>\n",
        "    </tr>\n",
        "    <tr>\n",
        "      <th>10151156746679058_24435126</th>\n",
        "      <td> 10151156746679058_24435126</td>\n",
        "      <td> NTVKenya</td>\n",
        "      <td>                                                                                                                 wisdom has reigned again and RAILA i respect your call</td>\n",
        "      <td>                                                                                                                                                                                                                                                                                                                                                                                                                                                                                                                                                                                                                                                                                                                    JUST IN: Raila Odinga postpones the planned press conference to tomorrow morning.</td>\n",
        "    </tr>\n",
        "    <tr>\n",
        "      <th>10151156746679058_24435149</th>\n",
        "      <td> 10151156746679058_24435149</td>\n",
        "      <td> NTVKenya</td>\n",
        "      <td>                                                                            U stupid jubelee kids u have no manners 4 older pple. Na ndio mumelaaniwa. Very soon mtalia</td>\n",
        "      <td>                                                                                                                                                                                                                                                                                                                                                                                                                                                                                                                                                                                                                                                                                                                    JUST IN: Raila Odinga postpones the planned press conference to tomorrow morning.</td>\n",
        "    </tr>\n",
        "    <tr>\n",
        "      <th>10151156746679058_24435169</th>\n",
        "      <td> 10151156746679058_24435169</td>\n",
        "      <td> NTVKenya</td>\n",
        "      <td>                                                                                                   Hawa wenye wanaongea vibaya wachunge usidhani utalala kwa Uhuru nkt!</td>\n",
        "      <td>                                                                                                                                                                                                                                                                                                                                                                                                                                                                                                                                                                                                                                                                                                                    JUST IN: Raila Odinga postpones the planned press conference to tomorrow morning.</td>\n",
        "    </tr>\n",
        "    <tr>\n",
        "      <th>10151156746679058_24435182</th>\n",
        "      <td> 10151156746679058_24435182</td>\n",
        "      <td> NTVKenya</td>\n",
        "      <td>                                                                                                                                    concide  tu it was never ment to be</td>\n",
        "      <td>                                                                                                                                                                                                                                                                                                                                                                                                                                                                                                                                                                                                                                                                                                                    JUST IN: Raila Odinga postpones the planned press conference to tomorrow morning.</td>\n",
        "    </tr>\n",
        "    <tr>\n",
        "      <th>10151156746679058_24435187</th>\n",
        "      <td> 10151156746679058_24435187</td>\n",
        "      <td> NTVKenya</td>\n",
        "      <td>                                                                                                                             Stop cheap propaganda we need poll results</td>\n",
        "      <td>                                                                                                                                                                                                                                                                                                                                                                                                                                                                                                                                                                                                                                                                                                                    JUST IN: Raila Odinga postpones the planned press conference to tomorrow morning.</td>\n",
        "    </tr>\n",
        "    <tr>\n",
        "      <th>10151156746679058_24435195</th>\n",
        "      <td> 10151156746679058_24435195</td>\n",
        "      <td> NTVKenya</td>\n",
        "      <td>                                                                                         izo comments zote zinashow tu how he matters yaani within seconds msha comment</td>\n",
        "      <td>                                                                                                                                                                                                                                                                                                                                                                                                                                                                                                                                                                                                                                                                                                                    JUST IN: Raila Odinga postpones the planned press conference to tomorrow morning.</td>\n",
        "    </tr>\n",
        "    <tr>\n",
        "      <th>10151156746679058_24435206</th>\n",
        "      <td> 10151156746679058_24435206</td>\n",
        "      <td> NTVKenya</td>\n",
        "      <td>                                                                                Ni Kusema na Kutenda wala sio vitendawili yet we are'nt seeing tha players on da pitch!</td>\n",
        "      <td>                                                                                                                                                                                                                                                                                                                                                                                                                                                                                                                                                                                                                                                                                                                    JUST IN: Raila Odinga postpones the planned press conference to tomorrow morning.</td>\n",
        "    </tr>\n",
        "    <tr>\n",
        "      <th>10151156746679058_24435212</th>\n",
        "      <td> 10151156746679058_24435212</td>\n",
        "      <td> NTVKenya</td>\n",
        "      <td>                                                                                                                he has sensed a run off he was going to concede defeat </td>\n",
        "      <td>                                                                                                                                                                                                                                                                                                                                                                                                                                                                                                                                                                                                                                                                                                                    JUST IN: Raila Odinga postpones the planned press conference to tomorrow morning.</td>\n",
        "    </tr>\n",
        "    <tr>\n",
        "      <th>10151156746679058_24435215</th>\n",
        "      <td> 10151156746679058_24435215</td>\n",
        "      <td> NTVKenya</td>\n",
        "      <td>                                             Hata Awinja atakuwa bt hata icc imechomeka xa hague itakuwa wapi ka anaomba kina uhuru wakienda hague akalie iyo seat kiac</td>\n",
        "      <td>                                                                                                                                                                                                                                                                                                                                                                                                                                                                                                                                                                                                                                                                                                                    JUST IN: Raila Odinga postpones the planned press conference to tomorrow morning.</td>\n",
        "    </tr>\n",
        "    <tr>\n",
        "      <th>10151156746679058_24435220</th>\n",
        "      <td> 10151156746679058_24435220</td>\n",
        "      <td> NTVKenya</td>\n",
        "      <td>                                                    It's called wisdom....he'll need to talk to his followers ...and many are probably asleep and the rest of Kenya....</td>\n",
        "      <td>                                                                                                                                                                                                                                                                                                                                                                                                                                                                                                                                                                                                                                                                                                                    JUST IN: Raila Odinga postpones the planned press conference to tomorrow morning.</td>\n",
        "    </tr>\n",
        "    <tr>\n",
        "      <th>10151156746679058_24435225</th>\n",
        "      <td> 10151156746679058_24435225</td>\n",
        "      <td> NTVKenya</td>\n",
        "      <td>                                                                                                                                              Mkate nusu roudi hii zii!</td>\n",
        "      <td>                                                                                                                                                                                                                                                                                                                                                                                                                                                                                                                                                                                                                                                                                                                    JUST IN: Raila Odinga postpones the planned press conference to tomorrow morning.</td>\n",
        "    </tr>\n",
        "    <tr>\n",
        "      <th>10151156746679058_24435237</th>\n",
        "      <td> 10151156746679058_24435237</td>\n",
        "      <td> NTVKenya</td>\n",
        "      <td>                                                                                                             Go home mbuyu ua age-mate r asleep!Hii ni time ya vijanaa.</td>\n",
        "      <td>                                                                                                                                                                                                                                                                                                                                                                                                                                                                                                                                                                                                                                                                                                                    JUST IN: Raila Odinga postpones the planned press conference to tomorrow morning.</td>\n",
        "    </tr>\n",
        "    <tr>\n",
        "      <th>10151156746679058_24435243</th>\n",
        "      <td> 10151156746679058_24435243</td>\n",
        "      <td> NTVKenya</td>\n",
        "      <td>                                                                                                                        plz respect luos then mumesumbua wa pwani sana </td>\n",
        "      <td>                                                                                                                                                                                                                                                                                                                                                                                                                                                                                                                                                                                                                                                                                                                    JUST IN: Raila Odinga postpones the planned press conference to tomorrow morning.</td>\n",
        "    </tr>\n",
        "    <tr>\n",
        "      <th>10151156746679058_24435261</th>\n",
        "      <td> 10151156746679058_24435261</td>\n",
        "      <td> NTVKenya</td>\n",
        "      <td>                                                                                                                                           Go wash dat dirty dck of uas</td>\n",
        "      <td>                                                                                                                                                                                                                                                                                                                                                                                                                                                                                                                                                                                                                                                                                                                    JUST IN: Raila Odinga postpones the planned press conference to tomorrow morning.</td>\n",
        "    </tr>\n",
        "    <tr>\n",
        "      <th>10151156746679058_24435264</th>\n",
        "      <td> 10151156746679058_24435264</td>\n",
        "      <td> NTVKenya</td>\n",
        "      <td>                                                                                                                                                     *Respect*....raila</td>\n",
        "      <td>                                                                                                                                                                                                                                                                                                                                                                                                                                                                                                                                                                                                                                                                                                                    JUST IN: Raila Odinga postpones the planned press conference to tomorrow morning.</td>\n",
        "    </tr>\n",
        "    <tr>\n",
        "      <th>10151156746679058_24435280</th>\n",
        "      <td> 10151156746679058_24435280</td>\n",
        "      <td> NTVKenya</td>\n",
        "      <td>                                                                                                                   Ida akona hard time stress zote xinaishia kwake ....</td>\n",
        "      <td>                                                                                                                                                                                                                                                                                                                                                                                                                                                                                                                                                                                                                                                                                                                    JUST IN: Raila Odinga postpones the planned press conference to tomorrow morning.</td>\n",
        "    </tr>\n",
        "    <tr>\n",
        "      <th>10151156746679058_24435294</th>\n",
        "      <td> 10151156746679058_24435294</td>\n",
        "      <td> NTVKenya</td>\n",
        "      <td>                                                                                                                                                           Wah!!!!!\\r\\n</td>\n",
        "      <td>                                                                                                                                                                                                                                                                                                                                                                                                                                                                                                                                                                                                                                                                                                                    JUST IN: Raila Odinga postpones the planned press conference to tomorrow morning.</td>\n",
        "    </tr>\n",
        "    <tr>\n",
        "      <th>10151156746679058_24435300</th>\n",
        "      <td> 10151156746679058_24435300</td>\n",
        "      <td> NTVKenya</td>\n",
        "      <td>                                                                                     My bros n siz frm central learn to respect athaz regardles of ua Tyranny of nambaz</td>\n",
        "      <td>                                                                                                                                                                                                                                                                                                                                                                                                                                                                                                                                                                                                                                                                                                                    JUST IN: Raila Odinga postpones the planned press conference to tomorrow morning.</td>\n",
        "    </tr>\n",
        "    <tr>\n",
        "      <th>10151156746679058_24435310</th>\n",
        "      <td> 10151156746679058_24435310</td>\n",
        "      <td> NTVKenya</td>\n",
        "      <td>                                                                                                                                                       Farasi ni wawili</td>\n",
        "      <td>                                                                                                                                                                                                                                                                                                                                                                                                                                                                                                                                                                                                                                                                                                                    JUST IN: Raila Odinga postpones the planned press conference to tomorrow morning.</td>\n",
        "    </tr>\n",
        "    <tr>\n",
        "      <th>10151156746679058_24435315</th>\n",
        "      <td> 10151156746679058_24435315</td>\n",
        "      <td> NTVKenya</td>\n",
        "      <td>                                                                                                                               mark ua words b4 releasing them out guys</td>\n",
        "      <td>                                                                                                                                                                                                                                                                                                                                                                                                                                                                                                                                                                                                                                                                                                                    JUST IN: Raila Odinga postpones the planned press conference to tomorrow morning.</td>\n",
        "    </tr>\n",
        "  </tbody>\n",
        "</table>\n",
        "<p>40 rows \u00d7 4 columns</p>\n",
        "</div>"
       ],
       "output_type": "pyout",
       "prompt_number": 416,
       "text": [
        "                                            comment_id  page_url                                                                                                                                                        message_comments  \\\n",
        "comment_id                                                                                                                                                                                                                                 \n",
        "10151156134394058_24427269  10151156134394058_24427269  NTVKenya                                                                                                                                         hapa ni kesho waache kutuenjoy.   \n",
        "10151156134394058_24427287  10151156134394058_24427287  NTVKenya                                            You sick...Kesses done, Turbo done, saboti done.....am surprised that a leading media house is relying on hear says...NKTAKO   \n",
        "10151156134394058_24427328  10151156134394058_24427328  NTVKenya                                                                                                                                                    hizi xote ni jubilee   \n",
        "10151156134394058_24427357  10151156134394058_24427357  NTVKenya                                                                                                                                 Uhuru ingia state house c ulizaliwa uko   \n",
        "10151156134394058_24427366  10151156134394058_24427366  NTVKenya                                                                                                                                              kabisa    iko  u tu  sana.   \n",
        "10151156134394058_24427386  10151156134394058_24427386  NTVKenya                                                                                                                                                         cord, i concede   \n",
        "10151156134394058_24427389  10151156134394058_24427389  NTVKenya                                                                     ntv hiyo ni uwongo hata kama mimi ni wa jubilee mnatupotosha.....Maeneo mengi hapo yameshaa tajwa..   \n",
        "10151156134394058_24427408  10151156134394058_24427408  NTVKenya                                                                                                                                 There's mo light at da end of da tunnel   \n",
        "10151156134394058_24427450  10151156134394058_24427450  NTVKenya  si you just say who is winning kuliko ku post hii this saying it indirect na wakenya tuko na vitu mobza kufikiria say it straight Uhuru Kenyatta has won is it so hard   \n",
        "10151156134394058_24427460  10151156134394058_24427460  NTVKenya                                                                                                               mbona wenye wako na majina zimeanza na \"o\" ndio wanateta?   \n",
        "10151156134394058_24427464  10151156134394058_24427464  NTVKenya                                                                                                                                                           Ni kundialala   \n",
        "10151156134394058_24427487  10151156134394058_24427487  NTVKenya                                                                                                        Marakwet East na west Jumla 150000 votes for Uhuru another bomb.   \n",
        "10151156134394058_24427492  10151156134394058_24427492  NTVKenya                                                            mjama anasema uhuru arudi sttatehouse mahali alizaliwa wengine tuende wapi. Kenya iznt hereditary my friend.   \n",
        "10151156134394058_24427505  10151156134394058_24427505  NTVKenya                                                                                                                           Am Corded na si pendi ukabila sababu ni chuki   \n",
        "10151156134394058_24427519  10151156134394058_24427519  NTVKenya                                                                                                                                       pamela fafi na lafey ni N.eastern   \n",
        "10151156134394058_24427529  10151156134394058_24427529  NTVKenya                                                                                            3/4 of tiz ni jubilee no way 4them its automaticaly 52.3% tym wil teach them   \n",
        "10151156134394058_24427530  10151156134394058_24427530  NTVKenya                                                                                                                                  if i were raila ningefanya kama romney   \n",
        "10151156134394058_24427532  10151156134394058_24427532  NTVKenya                                                      Pamela Chepngetich Omanga Fafi na Lafey ziko North eastern Karibu na mpaka wa Kenya na Somalia.Niko hapa sasa hivi   \n",
        "10151156134394058_24427534  10151156134394058_24427534  NTVKenya                                                                                                        the race is now btwn jubilee n 50%+1 votes hawa wengine wamehara   \n",
        "10151156134394058_24427552  10151156134394058_24427552  NTVKenya                                                                                                                                                   Most place ni jubilee   \n",
        "10151156746679058_24435126  10151156746679058_24435126  NTVKenya                                                                                                                  wisdom has reigned again and RAILA i respect your call   \n",
        "10151156746679058_24435149  10151156746679058_24435149  NTVKenya                                                                             U stupid jubelee kids u have no manners 4 older pple. Na ndio mumelaaniwa. Very soon mtalia   \n",
        "10151156746679058_24435169  10151156746679058_24435169  NTVKenya                                                                                                    Hawa wenye wanaongea vibaya wachunge usidhani utalala kwa Uhuru nkt!   \n",
        "10151156746679058_24435182  10151156746679058_24435182  NTVKenya                                                                                                                                     concide  tu it was never ment to be   \n",
        "10151156746679058_24435187  10151156746679058_24435187  NTVKenya                                                                                                                              Stop cheap propaganda we need poll results   \n",
        "10151156746679058_24435195  10151156746679058_24435195  NTVKenya                                                                                          izo comments zote zinashow tu how he matters yaani within seconds msha comment   \n",
        "10151156746679058_24435206  10151156746679058_24435206  NTVKenya                                                                                 Ni Kusema na Kutenda wala sio vitendawili yet we are'nt seeing tha players on da pitch!   \n",
        "10151156746679058_24435212  10151156746679058_24435212  NTVKenya                                                                                                                 he has sensed a run off he was going to concede defeat    \n",
        "10151156746679058_24435215  10151156746679058_24435215  NTVKenya                                              Hata Awinja atakuwa bt hata icc imechomeka xa hague itakuwa wapi ka anaomba kina uhuru wakienda hague akalie iyo seat kiac   \n",
        "10151156746679058_24435220  10151156746679058_24435220  NTVKenya                                                     It's called wisdom....he'll need to talk to his followers ...and many are probably asleep and the rest of Kenya....   \n",
        "10151156746679058_24435225  10151156746679058_24435225  NTVKenya                                                                                                                                               Mkate nusu roudi hii zii!   \n",
        "10151156746679058_24435237  10151156746679058_24435237  NTVKenya                                                                                                              Go home mbuyu ua age-mate r asleep!Hii ni time ya vijanaa.   \n",
        "10151156746679058_24435243  10151156746679058_24435243  NTVKenya                                                                                                                         plz respect luos then mumesumbua wa pwani sana    \n",
        "10151156746679058_24435261  10151156746679058_24435261  NTVKenya                                                                                                                                            Go wash dat dirty dck of uas   \n",
        "10151156746679058_24435264  10151156746679058_24435264  NTVKenya                                                                                                                                                      *Respect*....raila   \n",
        "10151156746679058_24435280  10151156746679058_24435280  NTVKenya                                                                                                                    Ida akona hard time stress zote xinaishia kwake ....   \n",
        "10151156746679058_24435294  10151156746679058_24435294  NTVKenya                                                                                                                                                            Wah!!!!!\\r\\n   \n",
        "10151156746679058_24435300  10151156746679058_24435300  NTVKenya                                                                                      My bros n siz frm central learn to respect athaz regardles of ua Tyranny of nambaz   \n",
        "10151156746679058_24435310  10151156746679058_24435310  NTVKenya                                                                                                                                                        Farasi ni wawili   \n",
        "10151156746679058_24435315  10151156746679058_24435315  NTVKenya                                                                                                                                mark ua words b4 releasing them out guys   \n",
        "\n",
        "                                                                                                                                                                                                                                                                                                                                                                                                                                                                                                                                                                                                                                                                                                                                                                                                                         message  \n",
        "comment_id                                                                                                                                                                                                                                                                                                                                                                                                                                                                                                                                                                                                                                                                                                                                                                                                                        \n",
        "10151156134394058_24427269  Remaining constituencies:\\n\\nNarok North, Narok South, Narok West, Belgut, Konoin, Navakholo, Ikolomani, Sabatia, Luanda, Baringo North, Baringo South, Laikipia North, Molo, Njoro, Bahati, Nakuru Town West, \\n\\nKilgoris and Emurua Dikirr Webuye West, Tongaren, Teso North, Maara, Chuka/Igambang\u2019ombe, Tharaka, Manyata, Mbeere South, Kitui West, Kitui Rural, Kangundo, Matungulu, Mwala, Kibwezi East and Kibwezi West \\n\\nKapenguria, Samburu West, Samburu North, Samburu East, Endebess, Saboti, Turbo, Kesses, Marakwet East, Marakwet West, Tiaty, Ol Kalou, Teso South, Funyula, Rangwe and Ndhiwa.\\n\\n Suna East, Suna West, West Mugirango, Mathare, Lare, Fafi, Ijara, Eldas, Lafey, Laisamis, Isiolo North, Ndaragwa, Kieni, Othaya, Kangema, Loima, Turkana South, Turkana East,  \n",
        "10151156134394058_24427287  Remaining constituencies:\\n\\nNarok North, Narok South, Narok West, Belgut, Konoin, Navakholo, Ikolomani, Sabatia, Luanda, Baringo North, Baringo South, Laikipia North, Molo, Njoro, Bahati, Nakuru Town West, \\n\\nKilgoris and Emurua Dikirr Webuye West, Tongaren, Teso North, Maara, Chuka/Igambang\u2019ombe, Tharaka, Manyata, Mbeere South, Kitui West, Kitui Rural, Kangundo, Matungulu, Mwala, Kibwezi East and Kibwezi West \\n\\nKapenguria, Samburu West, Samburu North, Samburu East, Endebess, Saboti, Turbo, Kesses, Marakwet East, Marakwet West, Tiaty, Ol Kalou, Teso South, Funyula, Rangwe and Ndhiwa.\\n\\n Suna East, Suna West, West Mugirango, Mathare, Lare, Fafi, Ijara, Eldas, Lafey, Laisamis, Isiolo North, Ndaragwa, Kieni, Othaya, Kangema, Loima, Turkana South, Turkana East,  \n",
        "10151156134394058_24427328  Remaining constituencies:\\n\\nNarok North, Narok South, Narok West, Belgut, Konoin, Navakholo, Ikolomani, Sabatia, Luanda, Baringo North, Baringo South, Laikipia North, Molo, Njoro, Bahati, Nakuru Town West, \\n\\nKilgoris and Emurua Dikirr Webuye West, Tongaren, Teso North, Maara, Chuka/Igambang\u2019ombe, Tharaka, Manyata, Mbeere South, Kitui West, Kitui Rural, Kangundo, Matungulu, Mwala, Kibwezi East and Kibwezi West \\n\\nKapenguria, Samburu West, Samburu North, Samburu East, Endebess, Saboti, Turbo, Kesses, Marakwet East, Marakwet West, Tiaty, Ol Kalou, Teso South, Funyula, Rangwe and Ndhiwa.\\n\\n Suna East, Suna West, West Mugirango, Mathare, Lare, Fafi, Ijara, Eldas, Lafey, Laisamis, Isiolo North, Ndaragwa, Kieni, Othaya, Kangema, Loima, Turkana South, Turkana East,  \n",
        "10151156134394058_24427357  Remaining constituencies:\\n\\nNarok North, Narok South, Narok West, Belgut, Konoin, Navakholo, Ikolomani, Sabatia, Luanda, Baringo North, Baringo South, Laikipia North, Molo, Njoro, Bahati, Nakuru Town West, \\n\\nKilgoris and Emurua Dikirr Webuye West, Tongaren, Teso North, Maara, Chuka/Igambang\u2019ombe, Tharaka, Manyata, Mbeere South, Kitui West, Kitui Rural, Kangundo, Matungulu, Mwala, Kibwezi East and Kibwezi West \\n\\nKapenguria, Samburu West, Samburu North, Samburu East, Endebess, Saboti, Turbo, Kesses, Marakwet East, Marakwet West, Tiaty, Ol Kalou, Teso South, Funyula, Rangwe and Ndhiwa.\\n\\n Suna East, Suna West, West Mugirango, Mathare, Lare, Fafi, Ijara, Eldas, Lafey, Laisamis, Isiolo North, Ndaragwa, Kieni, Othaya, Kangema, Loima, Turkana South, Turkana East,  \n",
        "10151156134394058_24427366  Remaining constituencies:\\n\\nNarok North, Narok South, Narok West, Belgut, Konoin, Navakholo, Ikolomani, Sabatia, Luanda, Baringo North, Baringo South, Laikipia North, Molo, Njoro, Bahati, Nakuru Town West, \\n\\nKilgoris and Emurua Dikirr Webuye West, Tongaren, Teso North, Maara, Chuka/Igambang\u2019ombe, Tharaka, Manyata, Mbeere South, Kitui West, Kitui Rural, Kangundo, Matungulu, Mwala, Kibwezi East and Kibwezi West \\n\\nKapenguria, Samburu West, Samburu North, Samburu East, Endebess, Saboti, Turbo, Kesses, Marakwet East, Marakwet West, Tiaty, Ol Kalou, Teso South, Funyula, Rangwe and Ndhiwa.\\n\\n Suna East, Suna West, West Mugirango, Mathare, Lare, Fafi, Ijara, Eldas, Lafey, Laisamis, Isiolo North, Ndaragwa, Kieni, Othaya, Kangema, Loima, Turkana South, Turkana East,  \n",
        "10151156134394058_24427386  Remaining constituencies:\\n\\nNarok North, Narok South, Narok West, Belgut, Konoin, Navakholo, Ikolomani, Sabatia, Luanda, Baringo North, Baringo South, Laikipia North, Molo, Njoro, Bahati, Nakuru Town West, \\n\\nKilgoris and Emurua Dikirr Webuye West, Tongaren, Teso North, Maara, Chuka/Igambang\u2019ombe, Tharaka, Manyata, Mbeere South, Kitui West, Kitui Rural, Kangundo, Matungulu, Mwala, Kibwezi East and Kibwezi West \\n\\nKapenguria, Samburu West, Samburu North, Samburu East, Endebess, Saboti, Turbo, Kesses, Marakwet East, Marakwet West, Tiaty, Ol Kalou, Teso South, Funyula, Rangwe and Ndhiwa.\\n\\n Suna East, Suna West, West Mugirango, Mathare, Lare, Fafi, Ijara, Eldas, Lafey, Laisamis, Isiolo North, Ndaragwa, Kieni, Othaya, Kangema, Loima, Turkana South, Turkana East,  \n",
        "10151156134394058_24427389  Remaining constituencies:\\n\\nNarok North, Narok South, Narok West, Belgut, Konoin, Navakholo, Ikolomani, Sabatia, Luanda, Baringo North, Baringo South, Laikipia North, Molo, Njoro, Bahati, Nakuru Town West, \\n\\nKilgoris and Emurua Dikirr Webuye West, Tongaren, Teso North, Maara, Chuka/Igambang\u2019ombe, Tharaka, Manyata, Mbeere South, Kitui West, Kitui Rural, Kangundo, Matungulu, Mwala, Kibwezi East and Kibwezi West \\n\\nKapenguria, Samburu West, Samburu North, Samburu East, Endebess, Saboti, Turbo, Kesses, Marakwet East, Marakwet West, Tiaty, Ol Kalou, Teso South, Funyula, Rangwe and Ndhiwa.\\n\\n Suna East, Suna West, West Mugirango, Mathare, Lare, Fafi, Ijara, Eldas, Lafey, Laisamis, Isiolo North, Ndaragwa, Kieni, Othaya, Kangema, Loima, Turkana South, Turkana East,  \n",
        "10151156134394058_24427408  Remaining constituencies:\\n\\nNarok North, Narok South, Narok West, Belgut, Konoin, Navakholo, Ikolomani, Sabatia, Luanda, Baringo North, Baringo South, Laikipia North, Molo, Njoro, Bahati, Nakuru Town West, \\n\\nKilgoris and Emurua Dikirr Webuye West, Tongaren, Teso North, Maara, Chuka/Igambang\u2019ombe, Tharaka, Manyata, Mbeere South, Kitui West, Kitui Rural, Kangundo, Matungulu, Mwala, Kibwezi East and Kibwezi West \\n\\nKapenguria, Samburu West, Samburu North, Samburu East, Endebess, Saboti, Turbo, Kesses, Marakwet East, Marakwet West, Tiaty, Ol Kalou, Teso South, Funyula, Rangwe and Ndhiwa.\\n\\n Suna East, Suna West, West Mugirango, Mathare, Lare, Fafi, Ijara, Eldas, Lafey, Laisamis, Isiolo North, Ndaragwa, Kieni, Othaya, Kangema, Loima, Turkana South, Turkana East,  \n",
        "10151156134394058_24427450  Remaining constituencies:\\n\\nNarok North, Narok South, Narok West, Belgut, Konoin, Navakholo, Ikolomani, Sabatia, Luanda, Baringo North, Baringo South, Laikipia North, Molo, Njoro, Bahati, Nakuru Town West, \\n\\nKilgoris and Emurua Dikirr Webuye West, Tongaren, Teso North, Maara, Chuka/Igambang\u2019ombe, Tharaka, Manyata, Mbeere South, Kitui West, Kitui Rural, Kangundo, Matungulu, Mwala, Kibwezi East and Kibwezi West \\n\\nKapenguria, Samburu West, Samburu North, Samburu East, Endebess, Saboti, Turbo, Kesses, Marakwet East, Marakwet West, Tiaty, Ol Kalou, Teso South, Funyula, Rangwe and Ndhiwa.\\n\\n Suna East, Suna West, West Mugirango, Mathare, Lare, Fafi, Ijara, Eldas, Lafey, Laisamis, Isiolo North, Ndaragwa, Kieni, Othaya, Kangema, Loima, Turkana South, Turkana East,  \n",
        "10151156134394058_24427460  Remaining constituencies:\\n\\nNarok North, Narok South, Narok West, Belgut, Konoin, Navakholo, Ikolomani, Sabatia, Luanda, Baringo North, Baringo South, Laikipia North, Molo, Njoro, Bahati, Nakuru Town West, \\n\\nKilgoris and Emurua Dikirr Webuye West, Tongaren, Teso North, Maara, Chuka/Igambang\u2019ombe, Tharaka, Manyata, Mbeere South, Kitui West, Kitui Rural, Kangundo, Matungulu, Mwala, Kibwezi East and Kibwezi West \\n\\nKapenguria, Samburu West, Samburu North, Samburu East, Endebess, Saboti, Turbo, Kesses, Marakwet East, Marakwet West, Tiaty, Ol Kalou, Teso South, Funyula, Rangwe and Ndhiwa.\\n\\n Suna East, Suna West, West Mugirango, Mathare, Lare, Fafi, Ijara, Eldas, Lafey, Laisamis, Isiolo North, Ndaragwa, Kieni, Othaya, Kangema, Loima, Turkana South, Turkana East,  \n",
        "10151156134394058_24427464  Remaining constituencies:\\n\\nNarok North, Narok South, Narok West, Belgut, Konoin, Navakholo, Ikolomani, Sabatia, Luanda, Baringo North, Baringo South, Laikipia North, Molo, Njoro, Bahati, Nakuru Town West, \\n\\nKilgoris and Emurua Dikirr Webuye West, Tongaren, Teso North, Maara, Chuka/Igambang\u2019ombe, Tharaka, Manyata, Mbeere South, Kitui West, Kitui Rural, Kangundo, Matungulu, Mwala, Kibwezi East and Kibwezi West \\n\\nKapenguria, Samburu West, Samburu North, Samburu East, Endebess, Saboti, Turbo, Kesses, Marakwet East, Marakwet West, Tiaty, Ol Kalou, Teso South, Funyula, Rangwe and Ndhiwa.\\n\\n Suna East, Suna West, West Mugirango, Mathare, Lare, Fafi, Ijara, Eldas, Lafey, Laisamis, Isiolo North, Ndaragwa, Kieni, Othaya, Kangema, Loima, Turkana South, Turkana East,  \n",
        "10151156134394058_24427487  Remaining constituencies:\\n\\nNarok North, Narok South, Narok West, Belgut, Konoin, Navakholo, Ikolomani, Sabatia, Luanda, Baringo North, Baringo South, Laikipia North, Molo, Njoro, Bahati, Nakuru Town West, \\n\\nKilgoris and Emurua Dikirr Webuye West, Tongaren, Teso North, Maara, Chuka/Igambang\u2019ombe, Tharaka, Manyata, Mbeere South, Kitui West, Kitui Rural, Kangundo, Matungulu, Mwala, Kibwezi East and Kibwezi West \\n\\nKapenguria, Samburu West, Samburu North, Samburu East, Endebess, Saboti, Turbo, Kesses, Marakwet East, Marakwet West, Tiaty, Ol Kalou, Teso South, Funyula, Rangwe and Ndhiwa.\\n\\n Suna East, Suna West, West Mugirango, Mathare, Lare, Fafi, Ijara, Eldas, Lafey, Laisamis, Isiolo North, Ndaragwa, Kieni, Othaya, Kangema, Loima, Turkana South, Turkana East,  \n",
        "10151156134394058_24427492  Remaining constituencies:\\n\\nNarok North, Narok South, Narok West, Belgut, Konoin, Navakholo, Ikolomani, Sabatia, Luanda, Baringo North, Baringo South, Laikipia North, Molo, Njoro, Bahati, Nakuru Town West, \\n\\nKilgoris and Emurua Dikirr Webuye West, Tongaren, Teso North, Maara, Chuka/Igambang\u2019ombe, Tharaka, Manyata, Mbeere South, Kitui West, Kitui Rural, Kangundo, Matungulu, Mwala, Kibwezi East and Kibwezi West \\n\\nKapenguria, Samburu West, Samburu North, Samburu East, Endebess, Saboti, Turbo, Kesses, Marakwet East, Marakwet West, Tiaty, Ol Kalou, Teso South, Funyula, Rangwe and Ndhiwa.\\n\\n Suna East, Suna West, West Mugirango, Mathare, Lare, Fafi, Ijara, Eldas, Lafey, Laisamis, Isiolo North, Ndaragwa, Kieni, Othaya, Kangema, Loima, Turkana South, Turkana East,  \n",
        "10151156134394058_24427505  Remaining constituencies:\\n\\nNarok North, Narok South, Narok West, Belgut, Konoin, Navakholo, Ikolomani, Sabatia, Luanda, Baringo North, Baringo South, Laikipia North, Molo, Njoro, Bahati, Nakuru Town West, \\n\\nKilgoris and Emurua Dikirr Webuye West, Tongaren, Teso North, Maara, Chuka/Igambang\u2019ombe, Tharaka, Manyata, Mbeere South, Kitui West, Kitui Rural, Kangundo, Matungulu, Mwala, Kibwezi East and Kibwezi West \\n\\nKapenguria, Samburu West, Samburu North, Samburu East, Endebess, Saboti, Turbo, Kesses, Marakwet East, Marakwet West, Tiaty, Ol Kalou, Teso South, Funyula, Rangwe and Ndhiwa.\\n\\n Suna East, Suna West, West Mugirango, Mathare, Lare, Fafi, Ijara, Eldas, Lafey, Laisamis, Isiolo North, Ndaragwa, Kieni, Othaya, Kangema, Loima, Turkana South, Turkana East,  \n",
        "10151156134394058_24427519  Remaining constituencies:\\n\\nNarok North, Narok South, Narok West, Belgut, Konoin, Navakholo, Ikolomani, Sabatia, Luanda, Baringo North, Baringo South, Laikipia North, Molo, Njoro, Bahati, Nakuru Town West, \\n\\nKilgoris and Emurua Dikirr Webuye West, Tongaren, Teso North, Maara, Chuka/Igambang\u2019ombe, Tharaka, Manyata, Mbeere South, Kitui West, Kitui Rural, Kangundo, Matungulu, Mwala, Kibwezi East and Kibwezi West \\n\\nKapenguria, Samburu West, Samburu North, Samburu East, Endebess, Saboti, Turbo, Kesses, Marakwet East, Marakwet West, Tiaty, Ol Kalou, Teso South, Funyula, Rangwe and Ndhiwa.\\n\\n Suna East, Suna West, West Mugirango, Mathare, Lare, Fafi, Ijara, Eldas, Lafey, Laisamis, Isiolo North, Ndaragwa, Kieni, Othaya, Kangema, Loima, Turkana South, Turkana East,  \n",
        "10151156134394058_24427529  Remaining constituencies:\\n\\nNarok North, Narok South, Narok West, Belgut, Konoin, Navakholo, Ikolomani, Sabatia, Luanda, Baringo North, Baringo South, Laikipia North, Molo, Njoro, Bahati, Nakuru Town West, \\n\\nKilgoris and Emurua Dikirr Webuye West, Tongaren, Teso North, Maara, Chuka/Igambang\u2019ombe, Tharaka, Manyata, Mbeere South, Kitui West, Kitui Rural, Kangundo, Matungulu, Mwala, Kibwezi East and Kibwezi West \\n\\nKapenguria, Samburu West, Samburu North, Samburu East, Endebess, Saboti, Turbo, Kesses, Marakwet East, Marakwet West, Tiaty, Ol Kalou, Teso South, Funyula, Rangwe and Ndhiwa.\\n\\n Suna East, Suna West, West Mugirango, Mathare, Lare, Fafi, Ijara, Eldas, Lafey, Laisamis, Isiolo North, Ndaragwa, Kieni, Othaya, Kangema, Loima, Turkana South, Turkana East,  \n",
        "10151156134394058_24427530  Remaining constituencies:\\n\\nNarok North, Narok South, Narok West, Belgut, Konoin, Navakholo, Ikolomani, Sabatia, Luanda, Baringo North, Baringo South, Laikipia North, Molo, Njoro, Bahati, Nakuru Town West, \\n\\nKilgoris and Emurua Dikirr Webuye West, Tongaren, Teso North, Maara, Chuka/Igambang\u2019ombe, Tharaka, Manyata, Mbeere South, Kitui West, Kitui Rural, Kangundo, Matungulu, Mwala, Kibwezi East and Kibwezi West \\n\\nKapenguria, Samburu West, Samburu North, Samburu East, Endebess, Saboti, Turbo, Kesses, Marakwet East, Marakwet West, Tiaty, Ol Kalou, Teso South, Funyula, Rangwe and Ndhiwa.\\n\\n Suna East, Suna West, West Mugirango, Mathare, Lare, Fafi, Ijara, Eldas, Lafey, Laisamis, Isiolo North, Ndaragwa, Kieni, Othaya, Kangema, Loima, Turkana South, Turkana East,  \n",
        "10151156134394058_24427532  Remaining constituencies:\\n\\nNarok North, Narok South, Narok West, Belgut, Konoin, Navakholo, Ikolomani, Sabatia, Luanda, Baringo North, Baringo South, Laikipia North, Molo, Njoro, Bahati, Nakuru Town West, \\n\\nKilgoris and Emurua Dikirr Webuye West, Tongaren, Teso North, Maara, Chuka/Igambang\u2019ombe, Tharaka, Manyata, Mbeere South, Kitui West, Kitui Rural, Kangundo, Matungulu, Mwala, Kibwezi East and Kibwezi West \\n\\nKapenguria, Samburu West, Samburu North, Samburu East, Endebess, Saboti, Turbo, Kesses, Marakwet East, Marakwet West, Tiaty, Ol Kalou, Teso South, Funyula, Rangwe and Ndhiwa.\\n\\n Suna East, Suna West, West Mugirango, Mathare, Lare, Fafi, Ijara, Eldas, Lafey, Laisamis, Isiolo North, Ndaragwa, Kieni, Othaya, Kangema, Loima, Turkana South, Turkana East,  \n",
        "10151156134394058_24427534  Remaining constituencies:\\n\\nNarok North, Narok South, Narok West, Belgut, Konoin, Navakholo, Ikolomani, Sabatia, Luanda, Baringo North, Baringo South, Laikipia North, Molo, Njoro, Bahati, Nakuru Town West, \\n\\nKilgoris and Emurua Dikirr Webuye West, Tongaren, Teso North, Maara, Chuka/Igambang\u2019ombe, Tharaka, Manyata, Mbeere South, Kitui West, Kitui Rural, Kangundo, Matungulu, Mwala, Kibwezi East and Kibwezi West \\n\\nKapenguria, Samburu West, Samburu North, Samburu East, Endebess, Saboti, Turbo, Kesses, Marakwet East, Marakwet West, Tiaty, Ol Kalou, Teso South, Funyula, Rangwe and Ndhiwa.\\n\\n Suna East, Suna West, West Mugirango, Mathare, Lare, Fafi, Ijara, Eldas, Lafey, Laisamis, Isiolo North, Ndaragwa, Kieni, Othaya, Kangema, Loima, Turkana South, Turkana East,  \n",
        "10151156134394058_24427552  Remaining constituencies:\\n\\nNarok North, Narok South, Narok West, Belgut, Konoin, Navakholo, Ikolomani, Sabatia, Luanda, Baringo North, Baringo South, Laikipia North, Molo, Njoro, Bahati, Nakuru Town West, \\n\\nKilgoris and Emurua Dikirr Webuye West, Tongaren, Teso North, Maara, Chuka/Igambang\u2019ombe, Tharaka, Manyata, Mbeere South, Kitui West, Kitui Rural, Kangundo, Matungulu, Mwala, Kibwezi East and Kibwezi West \\n\\nKapenguria, Samburu West, Samburu North, Samburu East, Endebess, Saboti, Turbo, Kesses, Marakwet East, Marakwet West, Tiaty, Ol Kalou, Teso South, Funyula, Rangwe and Ndhiwa.\\n\\n Suna East, Suna West, West Mugirango, Mathare, Lare, Fafi, Ijara, Eldas, Lafey, Laisamis, Isiolo North, Ndaragwa, Kieni, Othaya, Kangema, Loima, Turkana South, Turkana East,  \n",
        "10151156746679058_24435126                                                                                                                                                                                                                                                                                                                                                                                                                                                                                                                                                                                                                                                                                                                     JUST IN: Raila Odinga postpones the planned press conference to tomorrow morning.  \n",
        "10151156746679058_24435149                                                                                                                                                                                                                                                                                                                                                                                                                                                                                                                                                                                                                                                                                                                     JUST IN: Raila Odinga postpones the planned press conference to tomorrow morning.  \n",
        "10151156746679058_24435169                                                                                                                                                                                                                                                                                                                                                                                                                                                                                                                                                                                                                                                                                                                     JUST IN: Raila Odinga postpones the planned press conference to tomorrow morning.  \n",
        "10151156746679058_24435182                                                                                                                                                                                                                                                                                                                                                                                                                                                                                                                                                                                                                                                                                                                     JUST IN: Raila Odinga postpones the planned press conference to tomorrow morning.  \n",
        "10151156746679058_24435187                                                                                                                                                                                                                                                                                                                                                                                                                                                                                                                                                                                                                                                                                                                     JUST IN: Raila Odinga postpones the planned press conference to tomorrow morning.  \n",
        "10151156746679058_24435195                                                                                                                                                                                                                                                                                                                                                                                                                                                                                                                                                                                                                                                                                                                     JUST IN: Raila Odinga postpones the planned press conference to tomorrow morning.  \n",
        "10151156746679058_24435206                                                                                                                                                                                                                                                                                                                                                                                                                                                                                                                                                                                                                                                                                                                     JUST IN: Raila Odinga postpones the planned press conference to tomorrow morning.  \n",
        "10151156746679058_24435212                                                                                                                                                                                                                                                                                                                                                                                                                                                                                                                                                                                                                                                                                                                     JUST IN: Raila Odinga postpones the planned press conference to tomorrow morning.  \n",
        "10151156746679058_24435215                                                                                                                                                                                                                                                                                                                                                                                                                                                                                                                                                                                                                                                                                                                     JUST IN: Raila Odinga postpones the planned press conference to tomorrow morning.  \n",
        "10151156746679058_24435220                                                                                                                                                                                                                                                                                                                                                                                                                                                                                                                                                                                                                                                                                                                     JUST IN: Raila Odinga postpones the planned press conference to tomorrow morning.  \n",
        "10151156746679058_24435225                                                                                                                                                                                                                                                                                                                                                                                                                                                                                                                                                                                                                                                                                                                     JUST IN: Raila Odinga postpones the planned press conference to tomorrow morning.  \n",
        "10151156746679058_24435237                                                                                                                                                                                                                                                                                                                                                                                                                                                                                                                                                                                                                                                                                                                     JUST IN: Raila Odinga postpones the planned press conference to tomorrow morning.  \n",
        "10151156746679058_24435243                                                                                                                                                                                                                                                                                                                                                                                                                                                                                                                                                                                                                                                                                                                     JUST IN: Raila Odinga postpones the planned press conference to tomorrow morning.  \n",
        "10151156746679058_24435261                                                                                                                                                                                                                                                                                                                                                                                                                                                                                                                                                                                                                                                                                                                     JUST IN: Raila Odinga postpones the planned press conference to tomorrow morning.  \n",
        "10151156746679058_24435264                                                                                                                                                                                                                                                                                                                                                                                                                                                                                                                                                                                                                                                                                                                     JUST IN: Raila Odinga postpones the planned press conference to tomorrow morning.  \n",
        "10151156746679058_24435280                                                                                                                                                                                                                                                                                                                                                                                                                                                                                                                                                                                                                                                                                                                     JUST IN: Raila Odinga postpones the planned press conference to tomorrow morning.  \n",
        "10151156746679058_24435294                                                                                                                                                                                                                                                                                                                                                                                                                                                                                                                                                                                                                                                                                                                     JUST IN: Raila Odinga postpones the planned press conference to tomorrow morning.  \n",
        "10151156746679058_24435300                                                                                                                                                                                                                                                                                                                                                                                                                                                                                                                                                                                                                                                                                                                     JUST IN: Raila Odinga postpones the planned press conference to tomorrow morning.  \n",
        "10151156746679058_24435310                                                                                                                                                                                                                                                                                                                                                                                                                                                                                                                                                                                                                                                                                                                     JUST IN: Raila Odinga postpones the planned press conference to tomorrow morning.  \n",
        "10151156746679058_24435315                                                                                                                                                                                                                                                                                                                                                                                                                                                                                                                                                                                                                                                                                                                     JUST IN: Raila Odinga postpones the planned press conference to tomorrow morning.  \n",
        "\n",
        "[40 rows x 4 columns]"
       ]
      }
     ],
     "prompt_number": 416
    },
    {
     "cell_type": "code",
     "collapsed": false,
     "input": [
      "import codecs\n",
      "output_df = pd.DataFrame(df_all_march[['comment_id','page_url','message_comments','message']].loc[sample_true], copy=True)\n",
      "with codecs.open('../Data/UmatiLabels/Predictions/SecondIteration/predictions_trues.html','w',encoding='UTF-8') as fout:\n",
      "        fout.write(output_df.to_html())"
     ],
     "language": "python",
     "metadata": {},
     "outputs": []
    },
    {
     "cell_type": "code",
     "collapsed": false,
     "input": [
      "df_all_march[['page_url', 'message','message_comments']].loc[sample_true].iloc[550:560]"
     ],
     "language": "python",
     "metadata": {},
     "outputs": []
    },
    {
     "cell_type": "code",
     "collapsed": false,
     "input": [],
     "language": "python",
     "metadata": {},
     "outputs": []
    },
    {
     "cell_type": "code",
     "collapsed": false,
     "input": [
      "#Function for doing proportional sampling\n",
      "#Very slow, must be able to optimise\n",
      "\n",
      "from math import floor\n",
      "import random\n",
      "\n",
      "def sample_proportions(labels,\n",
      "                        data,\n",
      "                        sample_size, \n",
      "                        proportion_weighted, \n",
      "                        block_size = 10,\n",
      "                        top_N = 10):\n",
      "    \"\"\"\n",
      "    Samples in proportion to pages already labelled - Need to be able to specify filter on label\n",
      "    Inputs:\n",
      "    \n",
      "    labels - indexes of already labelled data and label\n",
      "    data - data that needs to be labelled\n",
      "    sample_size - size of final sample (approximate)\n",
      "    proportion_weighted - proportion of sample to correspond to page proportion weighting scheme\n",
      "    block_size - size of continuous comments blocks to label\n",
      "    top_N - How many pages to use in the proportional weighing scheme\n",
      "\n",
      "    Output:\n",
      "    Index of samples as a subset of the original data index\n",
      "    \"\"\"\n",
      "    \n",
      "    \n",
      "    #Construct df with pages and number of samples per page with respect to proportion\n",
      "    freq_pages  = data.page_url.loc[labels.index].value_counts()\n",
      "    #freq_pages  = data.loc[labels.index].page_url.value_counts()\n",
      "    pc_pages = freq_pages/freq_pages.sum()\n",
      "    buckets = (pc_pages.iloc[0:top_N]*sample_size*proportion_weighted).apply(floor)\n",
      "    #Append the non-proportional number of samples to take\n",
      "    buckets= buckets.append(pd.Series( sample_size - buckets.sum(), index=['restofsample']))\n",
      "    print buckets\n",
      "    #Get index set of samples minus indexes of already labelled samples\n",
      "    index_no_labels = data.index - labels.index\n",
      "    \n",
      "    #Get groups and index to make samples from and filter out already labelled\n",
      "    df_groups = data[['page_url']].loc[index_no_labels]\n",
      "    \n",
      "    #Create empty of index of final samples\n",
      "    sample_index = pd.Index([])\n",
      "    \n",
      "    \n",
      "    #Do sampling\n",
      "    for (group_lb, group_num_samples) in buckets.iteritems():\n",
      "        \n",
      "        if group_lb != 'restofsample':\n",
      "            #get group index\n",
      "            df_thisgroup = df_groups[df_groups['page_url'] == group_lb]\n",
      "        \n",
      "        elif group_lb == 'restofsample':\n",
      "            #This will break unless rest_of_sample label is last\n",
      "            rest_of_sample_index = index_no_labels - sample_index\n",
      "            df_thisgroup = df_groups.loc[rest_of_sample_index]\n",
      "            \n",
      "        group_size = df_thisgroup.shape[0]\n",
      "        print group_lb, group_size\n",
      "        \n",
      "        #We want to sample continuous blocks size N from group\n",
      "        samples = set()\n",
      "        sample_set = set([i for i in range(0,group_size-block_size)])\n",
      "        \n",
      "        while(len(samples) < group_num_samples):\n",
      "            start_block = random.choice(list(sample_set))\n",
      "            block = set(range(start_block,start_block+block_size))\n",
      "            \n",
      "            samples = samples.union(block) #Add lastest indexes sampled\n",
      "            sample_set = sample_set.difference(block) #Remove indexes from set to be sampled\n",
      "        \n",
      "        #Get index labels\n",
      "        samples = list(samples)\n",
      "        samples.sort() #note that this working inplace\n",
      "        this_index = [df_thisgroup.index[it] for it in samples] #Get index from full set rather than group\n",
      "        this_index = pd.Index(this_index)\n",
      "        \n",
      "        sample_index += this_index\n",
      "        \n",
      "    return sample_index\n",
      "        \n",
      "\n"
     ],
     "language": "python",
     "metadata": {},
     "outputs": [],
     "prompt_number": 370
    },
    {
     "cell_type": "code",
     "collapsed": false,
     "input": [
      "#Send for labelling"
     ],
     "language": "python",
     "metadata": {},
     "outputs": []
    },
    {
     "cell_type": "code",
     "collapsed": false,
     "input": [
      "#Import labels"
     ],
     "language": "python",
     "metadata": {},
     "outputs": []
    },
    {
     "cell_type": "code",
     "collapsed": false,
     "input": [
      "#Repeat training"
     ],
     "language": "python",
     "metadata": {},
     "outputs": []
    }
   ],
   "metadata": {}
  }
 ]
}