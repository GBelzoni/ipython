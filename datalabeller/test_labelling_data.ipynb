{
 "metadata": {
  "cell_tags": [
   [
    "<None>",
    null
   ]
  ],
  "name": "",
  "signature": "sha256:5ff2b6958e70f33e1a1fc90792f61d28d9171749e4402c6d8f284069eafb02ad"
 },
 "nbformat": 3,
 "nbformat_minor": 0,
 "worksheets": [
  {
   "cells": [
    {
     "cell_type": "heading",
     "level": 1,
     "metadata": {},
     "source": [
      "To Run a cell press \"Ctrl + Return\"\n",
      "or press \"Shift + Return\" to run and skip to next cell"
     ]
    },
    {
     "cell_type": "heading",
     "level": 3,
     "metadata": {},
     "source": [
      "Keyboard input built using ipython notebook custom widgets\n",
      "Description of how custom widgets work is in the \"Custom Widgets\" example notebook in the demos folder"
     ]
    },
    {
     "cell_type": "heading",
     "level": 4,
     "metadata": {},
     "source": [
      "Run this cell to load java script custom widget needs"
     ]
    },
    {
     "cell_type": "code",
     "collapsed": false,
     "input": [
      "#Have to run the code in labeller.js in a Cell at least once for all this to work\n",
      "#This is bit that syncs widgets to ipython backend etc\n",
      "from IPython.display import Javascript\n",
      "with open('./labeller_js.js') as fin:\n",
      "    js = fin.read()\n",
      "    \n",
      "Javascript(js)"
     ],
     "language": "python",
     "metadata": {},
     "outputs": []
    },
    {
     "cell_type": "heading",
     "level": 4,
     "metadata": {},
     "source": [
      "Run this to load data to label.\n",
      "I'm loading a python pickled object, but easy enough to load json and parse to datatype for tagger"
     ]
    },
    {
     "cell_type": "code",
     "collapsed": false,
     "input": [
      "import pandas as pd\n",
      "import pickle\n",
      "\n",
      "pd.set_option('display.height', 1000)\n",
      "pd.set_option('display.max_rows', 500)\n",
      "pd.set_option('display.max_columns', 500)\n",
      "pd.set_option('display.width', 1000)\n",
      "pd.set_option('display.max_colwidth',1000)\n",
      "\n",
      "with open('./tolable.pkl') as fin:\n",
      "    data = pickle.load(fin)\n",
      "# data.head()"
     ],
     "language": "python",
     "metadata": {},
     "outputs": []
    },
    {
     "cell_type": "heading",
     "level": 4,
     "metadata": {},
     "source": [
      "Create questions and answers options for data"
     ]
    },
    {
     "cell_type": "code",
     "collapsed": false,
     "input": [
      "#Input vars\n",
      "\n",
      "#Give description of tagging session to be saved with labels\n",
      "description_of_tags = \"Test tagging\"\n",
      "\n",
      "#Set columns in data to display for tagging\n",
      "display_col = ['page_url', 'message', 'message_comments']\n",
      "\n",
      "#Define question\n",
      "question = \"Is this interesting speach?\"\n",
      "\n",
      "#Define answers\n",
      "answer1 = {'key_num' : str(89), 'answer_text': 'Yes (y)', 'label': 'Yes'}\n",
      "answer2 = {'key_num' : str(78), 'answer_text': 'No (n)', 'label': 'No'}\n",
      "answers = [ answer1, answer2]\n",
      "\n",
      "#If you want to add another answer do this\n",
      "answer3 = {'key_num' : str(72), 'answer_text': 'Hidy Ho! (h)', 'label': 'Hidy Ho'}\n",
      "answers = [ answer1, answer2, answer3]\n",
      "\n",
      "q_and_a = {'question': question, 'answers':answers}"
     ],
     "language": "python",
     "metadata": {},
     "outputs": []
    },
    {
     "cell_type": "heading",
     "level": 2,
     "metadata": {},
     "source": [
      "TAGGER"
     ]
    },
    {
     "cell_type": "markdown",
     "metadata": {},
     "source": [
      "Below cell is tagger\n",
      "Run this after you've run first 3 cells\n",
      "\n",
      "* You should see a little blue box\n",
      "    - click on that to make the tagger active and accepting keyboard input\n",
      "    - If if you click outside blue box, tagger deactivates so you need to click back on it to activate again\n",
      "\n",
      "Once you have activated use the keyboard to enter tags:\n",
      "\n",
      "1. the first box you see has the row of data you want to tag\n",
      "2. You should see a list of possible answers with letter in parenthesis above it, e.g. Yes (y) | No (n)\n",
      "3. Hitting the letter you tag the data with that option, e.g. press 'y' to tag \n",
      "4. When you do the tagger should automatically update, and show a new example to tag, and below enter the tagged example to list of other tagged examples.\n",
      "5. If you make a mistake hit 'r' to reverse\n",
      "6. When you want to save your tags hit 's', this saves just tag and index to file = lablels.pkl in folder\n",
      "    1. Note that you can change name/location of file when instantiating dl in the cell\n",
      "    2. Currently the saved data is a serialised python dataframe, but can change to save in json so can import into R etc\n",
      "7. Make sure you save often, ff for some reason the connection breaks you may lose tagged data. \n",
      "8. If you have saved your tagging, you can press 'l' to reload last saved data in 'label.pkl' so recover lost tagged data.\n",
      "9. Once you've finished tagging, just let your friendly data nerd (I mean scientist) know and we can take it from there.\n"
     ]
    },
    {
     "cell_type": "code",
     "collapsed": true,
     "input": [
      "from IPython.html.widgets import interact, interactive\n",
      "from label_widget import LabellerWidget\n",
      "import controller\n",
      "reload(controller)\n",
      "dl = controller.DataLabeler(data, q_and_a, label_loc = './labels.pkl', description=description_of_tags,display_cols = display_col)\n",
      "interactive(dl.input_handler, LabellerWidget = LabellerWidget())\n"
     ],
     "language": "python",
     "metadata": {},
     "outputs": [
      {
       "output_type": "stream",
       "stream": "stdout",
       "text": [
        "Description of tagging session: Test tagging\n",
        "Question: Is this interesting speach?\n",
        "Answers\n",
        "Yes (y) | No (n) | Hidy Ho! (h)\n",
        "Save data press 's', Load data press 'l', Reverse Answer 'r'\n",
        "So far have labelled 0 examples\n"
       ]
      },
      {
       "html": [
        "<div style=\"max-height:1000px;max-width:1500px;overflow:auto;\">\n",
        "<table border=\"1\" class=\"dataframe\">\n",
        "  <thead>\n",
        "    <tr style=\"text-align: right;\">\n",
        "      <th></th>\n",
        "      <th>page_url</th>\n",
        "      <th>message</th>\n",
        "      <th>message_comments</th>\n",
        "    </tr>\n",
        "  </thead>\n",
        "  <tbody>\n",
        "    <tr>\n",
        "      <th>0</th>\n",
        "      <td> capitalfmkenya</td>\n",
        "      <td> JUST IN: Radical Muslim cleric Abubakar Sharrif (L) aka Makaburi shot dead</td>\n",
        "      <td> No wonder kuna tension in Majengo n in Tao.Dat is wat one get for threating the government.</td>\n",
        "    </tr>\n",
        "  </tbody>\n",
        "</table>\n",
        "<p>1 rows \u00d7 3 columns</p>\n",
        "</div>"
       ],
       "metadata": {},
       "output_type": "display_data",
       "text": [
        "         page_url                                                                     message                                                                             message_comments\n",
        "0  capitalfmkenya  JUST IN: Radical Muslim cleric Abubakar Sharrif (L) aka Makaburi shot dead  No wonder kuna tension in Majengo n in Tao.Dat is wat one get for threating the government.\n",
        "\n",
        "[1 rows x 3 columns]"
       ]
      },
      {
       "output_type": "stream",
       "stream": "stdout",
       "text": [
        "Labelled Data\n"
       ]
      }
     ],
     "prompt_number": 34
    },
    {
     "cell_type": "code",
     "collapsed": false,
     "input": [],
     "language": "python",
     "metadata": {},
     "outputs": []
    },
    {
     "cell_type": "code",
     "collapsed": false,
     "input": [],
     "language": "python",
     "metadata": {},
     "outputs": []
    },
    {
     "cell_type": "code",
     "collapsed": true,
     "input": [
      "#Display data that will be saved to db\n",
      "dl.df_labeled"
     ],
     "language": "python",
     "metadata": {},
     "outputs": [
      {
       "html": [
        "<div style=\"max-height:1000px;max-width:1500px;overflow:auto;\">\n",
        "<table border=\"1\" class=\"dataframe\">\n",
        "  <thead>\n",
        "    <tr style=\"text-align: right;\">\n",
        "      <th></th>\n",
        "      <th>index</th>\n",
        "      <th>label</th>\n",
        "      <th>description</th>\n",
        "    </tr>\n",
        "  </thead>\n",
        "  <tbody>\n",
        "    <tr>\n",
        "      <th>0</th>\n",
        "      <td> 10151750720022609_8901895</td>\n",
        "      <td>      No</td>\n",
        "      <td> Test tagging</td>\n",
        "    </tr>\n",
        "    <tr>\n",
        "      <th>0</th>\n",
        "      <td> 10151750720022609_8901872</td>\n",
        "      <td>     Yes</td>\n",
        "      <td> Test tagging</td>\n",
        "    </tr>\n",
        "    <tr>\n",
        "      <th>0</th>\n",
        "      <td> 10151750720022609_8901791</td>\n",
        "      <td> Hidy Ho</td>\n",
        "      <td> Test tagging</td>\n",
        "    </tr>\n",
        "  </tbody>\n",
        "</table>\n",
        "<p>3 rows \u00d7 3 columns</p>\n",
        "</div>"
       ],
       "metadata": {},
       "output_type": "pyout",
       "prompt_number": 31,
       "text": [
        "                       index    label   description\n",
        "0  10151750720022609_8901895       No  Test tagging\n",
        "0  10151750720022609_8901872      Yes  Test tagging\n",
        "0  10151750720022609_8901791  Hidy Ho  Test tagging\n",
        "\n",
        "[3 rows x 3 columns]"
       ]
      }
     ],
     "prompt_number": 31
    },
    {
     "cell_type": "code",
     "collapsed": true,
     "input": [
      "#Convert to json\n",
      "#Needs a unique index\n",
      "dl.df_labeled.index = pd.Index(range(0,dl.df_labeled.shape[0]))\n",
      "label_json_str = dl.df_labeled.to_json() #Convert to json string\n",
      "\n",
      "#converst json string to python dict\n",
      "import json\n",
      "label_json = json.loads(label_json_str)\n",
      "label_json.keys() #print keys which are column labels\n",
      "#load json dict as dataframe\n",
      "pd.DataFrame(label_json)\n",
      "\n"
     ],
     "language": "python",
     "metadata": {},
     "outputs": [
      {
       "html": [
        "<div style=\"max-height:1000px;max-width:1500px;overflow:auto;\">\n",
        "<table border=\"1\" class=\"dataframe\">\n",
        "  <thead>\n",
        "    <tr style=\"text-align: right;\">\n",
        "      <th></th>\n",
        "      <th>description</th>\n",
        "      <th>index</th>\n",
        "      <th>label</th>\n",
        "    </tr>\n",
        "  </thead>\n",
        "  <tbody>\n",
        "    <tr>\n",
        "      <th>0</th>\n",
        "      <td> Test tagging</td>\n",
        "      <td> 10151785593274058_10179843</td>\n",
        "      <td>  No</td>\n",
        "    </tr>\n",
        "    <tr>\n",
        "      <th>1</th>\n",
        "      <td> Test tagging</td>\n",
        "      <td> 10151785587804058_10182343</td>\n",
        "      <td> Yes</td>\n",
        "    </tr>\n",
        "    <tr>\n",
        "      <th>10</th>\n",
        "      <td> Test tagging</td>\n",
        "      <td> 10151785416624058_10181821</td>\n",
        "      <td>  No</td>\n",
        "    </tr>\n",
        "    <tr>\n",
        "      <th>11</th>\n",
        "      <td> Test tagging</td>\n",
        "      <td> 10151785416624058_10176173</td>\n",
        "      <td> Yes</td>\n",
        "    </tr>\n",
        "    <tr>\n",
        "      <th>12</th>\n",
        "      <td> Test tagging</td>\n",
        "      <td> 10151785416624058_10175536</td>\n",
        "      <td> Yes</td>\n",
        "    </tr>\n",
        "    <tr>\n",
        "      <th>13</th>\n",
        "      <td> Test tagging</td>\n",
        "      <td> 10151785416624058_10173510</td>\n",
        "      <td> Yes</td>\n",
        "    </tr>\n",
        "    <tr>\n",
        "      <th>14</th>\n",
        "      <td> Test tagging</td>\n",
        "      <td> 10151785416624058_10173432</td>\n",
        "      <td>  No</td>\n",
        "    </tr>\n",
        "    <tr>\n",
        "      <th>15</th>\n",
        "      <td> Test tagging</td>\n",
        "      <td> 10151763424632609_26292200</td>\n",
        "      <td> Yes</td>\n",
        "    </tr>\n",
        "    <tr>\n",
        "      <th>16</th>\n",
        "      <td> Test tagging</td>\n",
        "      <td>  10151752125437609_8907059</td>\n",
        "      <td> Yes</td>\n",
        "    </tr>\n",
        "    <tr>\n",
        "      <th>17</th>\n",
        "      <td> Test tagging</td>\n",
        "      <td>  10151750720022609_8902637</td>\n",
        "      <td> Yes</td>\n",
        "    </tr>\n",
        "    <tr>\n",
        "      <th>18</th>\n",
        "      <td> Test tagging</td>\n",
        "      <td>  10151750720022609_8901895</td>\n",
        "      <td>  No</td>\n",
        "    </tr>\n",
        "    <tr>\n",
        "      <th>19</th>\n",
        "      <td> Test tagging</td>\n",
        "      <td>  10151750720022609_8901872</td>\n",
        "      <td> Yes</td>\n",
        "    </tr>\n",
        "    <tr>\n",
        "      <th>2</th>\n",
        "      <td> Test tagging</td>\n",
        "      <td> 10151785587804058_10179927</td>\n",
        "      <td> Yes</td>\n",
        "    </tr>\n",
        "    <tr>\n",
        "      <th>20</th>\n",
        "      <td> Test tagging</td>\n",
        "      <td>  10151750720022609_8901791</td>\n",
        "      <td>  No</td>\n",
        "    </tr>\n",
        "    <tr>\n",
        "      <th>3</th>\n",
        "      <td> Test tagging</td>\n",
        "      <td> 10151785587804058_10175785</td>\n",
        "      <td> Yes</td>\n",
        "    </tr>\n",
        "    <tr>\n",
        "      <th>4</th>\n",
        "      <td> Test tagging</td>\n",
        "      <td> 10151785587804058_10175200</td>\n",
        "      <td> Yes</td>\n",
        "    </tr>\n",
        "    <tr>\n",
        "      <th>5</th>\n",
        "      <td> Test tagging</td>\n",
        "      <td> 10151785587804058_10175130</td>\n",
        "      <td> Yes</td>\n",
        "    </tr>\n",
        "    <tr>\n",
        "      <th>6</th>\n",
        "      <td> Test tagging</td>\n",
        "      <td> 10151785587804058_10175029</td>\n",
        "      <td> Yes</td>\n",
        "    </tr>\n",
        "    <tr>\n",
        "      <th>7</th>\n",
        "      <td> Test tagging</td>\n",
        "      <td> 10151785454469058_10175253</td>\n",
        "      <td>  No</td>\n",
        "    </tr>\n",
        "    <tr>\n",
        "      <th>8</th>\n",
        "      <td> Test tagging</td>\n",
        "      <td> 10151785454469058_10174322</td>\n",
        "      <td>  No</td>\n",
        "    </tr>\n",
        "    <tr>\n",
        "      <th>9</th>\n",
        "      <td> Test tagging</td>\n",
        "      <td> 10151785441579058_10184567</td>\n",
        "      <td>  No</td>\n",
        "    </tr>\n",
        "  </tbody>\n",
        "</table>\n",
        "<p>21 rows \u00d7 3 columns</p>\n",
        "</div>"
       ],
       "metadata": {},
       "output_type": "pyout",
       "prompt_number": 64,
       "text": [
        "     description                       index label\n",
        "0   Test tagging  10151785593274058_10179843    No\n",
        "1   Test tagging  10151785587804058_10182343   Yes\n",
        "10  Test tagging  10151785416624058_10181821    No\n",
        "11  Test tagging  10151785416624058_10176173   Yes\n",
        "12  Test tagging  10151785416624058_10175536   Yes\n",
        "13  Test tagging  10151785416624058_10173510   Yes\n",
        "14  Test tagging  10151785416624058_10173432    No\n",
        "15  Test tagging  10151763424632609_26292200   Yes\n",
        "16  Test tagging   10151752125437609_8907059   Yes\n",
        "17  Test tagging   10151750720022609_8902637   Yes\n",
        "18  Test tagging   10151750720022609_8901895    No\n",
        "19  Test tagging   10151750720022609_8901872   Yes\n",
        "2   Test tagging  10151785587804058_10179927   Yes\n",
        "20  Test tagging   10151750720022609_8901791    No\n",
        "3   Test tagging  10151785587804058_10175785   Yes\n",
        "4   Test tagging  10151785587804058_10175200   Yes\n",
        "5   Test tagging  10151785587804058_10175130   Yes\n",
        "6   Test tagging  10151785587804058_10175029   Yes\n",
        "7   Test tagging  10151785454469058_10175253    No\n",
        "8   Test tagging  10151785454469058_10174322    No\n",
        "9   Test tagging  10151785441579058_10184567    No\n",
        "\n",
        "[21 rows x 3 columns]"
       ]
      }
     ],
     "prompt_number": 64
    },
    {
     "cell_type": "heading",
     "level": 4,
     "metadata": {},
     "source": [
      "You can use this code to figure out keyboard key values"
     ]
    },
    {
     "cell_type": "code",
     "collapsed": false,
     "input": [
      "from IPython.html.widgets import interact, interactive\n",
      "from label_widget import LabellerWidget\n",
      "print_str = list()\n",
      "\n",
      "def fn(**kwargs):\n",
      "#     %cleear\n",
      "    global print_str\n",
      "    for it in kwargs.items():\n",
      "        print_str.append( it[1])\n",
      "        print('Input Widget = ', it[0], ' Widget Value = ', print_str )\n",
      "i = interact(fn, blah = LabellerWidget())\n",
      "\n",
      "#Different key mappings\n",
      "# y = 89\n",
      "# n = 78\n",
      "# 1 =49, 97\n",
      "# 2 = 50, 98\n",
      "\n"
     ],
     "language": "python",
     "metadata": {},
     "outputs": [
      {
       "output_type": "stream",
       "stream": "stdout",
       "text": [
        "('Input Widget = ', 'LabellerWidget', ' Widget Value = ', [{}, {'key_press': True, 'key_num': None}, {'key_press': False, 'key_num': u'68'}, {'key_press': True, 'key_num': None}, {'key_press': False, 'key_num': u'70'}, {'key_press': True, 'key_num': None}, {'key_press': False, 'key_num': u'72'}])\n"
       ]
      }
     ],
     "prompt_number": 22
    },
    {
     "cell_type": "code",
     "collapsed": false,
     "input": [],
     "language": "python",
     "metadata": {},
     "outputs": [],
     "prompt_number": 65
    }
   ],
   "metadata": {}
  }
 ]
}