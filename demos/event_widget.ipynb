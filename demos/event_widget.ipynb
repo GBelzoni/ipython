{
 "metadata": {
  "cell_tags": [
   [
    "<None>",
    null
   ]
  ],
  "name": "",
  "signature": "sha256:f197331cf185829f2fb3da3971d11e9262d60ed8186d0be51b236eda80b7241a"
 },
 "nbformat": 3,
 "nbformat_minor": 0,
 "worksheets": [
  {
   "cells": [
    {
     "cell_type": "code",
     "collapsed": false,
     "input": [
      "from __future__ import print_function # For py 2.7 compat\n",
      "from IPython.html import widgets # Widget definitions\n",
      "from IPython.display import display # Used to display widgets in the notebook\n",
      "from IPython.utils.traitlets import Unicode # Used to declare attributes of our widget"
     ],
     "language": "python",
     "metadata": {},
     "outputs": [],
     "prompt_number": 7
    },
    {
     "cell_type": "code",
     "collapsed": false,
     "input": [
      "class TestWidget(widgets.DOMWidget):\n",
      "    _view_name = Unicode('TestView', sync=True)\n",
      "    \n",
      "    def __init__(self, **kwargs):\n",
      "        super(TestWidget, self).__init__(**kwargs)\n",
      "        self.on_msg(self._handle_button_msg)\n",
      "\n",
      "    def _handle_button_msg(self, _, content):\n",
      "        if content.get('event', '') == 'click':\n",
      "            self.on_click(content)\n",
      "        elif content.get('event', '') == 'keypress':\n",
      "            self.on_key_press(content)\n",
      "\n",
      "    def on_click(self, content):\n",
      "        print(\"Button {b}\".format(b=content['button']))\n",
      "\n",
      "    def on_key_press(self, content):\n",
      "        print(\"Key {c}\".format(c=content['code']))"
     ],
     "language": "python",
     "metadata": {},
     "outputs": [],
     "prompt_number": 8
    },
    {
     "cell_type": "code",
     "collapsed": false,
     "input": [
      "%%javascript\n",
      "require([\"widgets/js/widget\"], function(WidgetManager){\n",
      "    \n",
      "    var TestView = IPython.DOMWidgetView.extend({\n",
      "        render: function(){\n",
      "            \n",
      "            this.$canvas = $('<canvas />')\n",
      "                .attr('width', '200')\n",
      "                .attr('height', '100')\n",
      "                .attr('style', 'background: black;')\n",
      "                .attr('tabindex', '1')\n",
      "                .appendTo(this.$el);\n",
      "        },\n",
      "        \n",
      "        events: {\n",
      "            'keydown': 'keypress',\n",
      "            'click': 'click',\n",
      "        },\n",
      "\n",
      "        keypress: function(e) {\n",
      "            var code = e.keyCode || e.which;\n",
      "            this.send({event: 'keypress', code: code});\n",
      "        },\n",
      "\n",
      "        click: function(e) {\n",
      "            this.send({event: 'click', button: e.button});\n",
      "        }\n",
      "    });\n",
      "    \n",
      "    WidgetManager.register_widget_view('TestView', TestView);\n",
      "});"
     ],
     "language": "python",
     "metadata": {},
     "outputs": [
      {
       "javascript": [
        "require([\"widgets/js/widget\"], function(WidgetManager){\n",
        "    \n",
        "    var TestView = IPython.DOMWidgetView.extend({\n",
        "        render: function(){\n",
        "            \n",
        "            this.$canvas = $('<canvas />')\n",
        "                .attr('width', '200')\n",
        "                .attr('height', '100')\n",
        "                .attr('style', 'background: black;')\n",
        "                .attr('tabindex', '1')\n",
        "                .appendTo(this.$el);\n",
        "        },\n",
        "        \n",
        "        events: {\n",
        "            'keydown': 'keypress',\n",
        "            'click': 'click',\n",
        "        },\n",
        "\n",
        "        keypress: function(e) {\n",
        "            var code = e.keyCode || e.which;\n",
        "            this.send({event: 'keypress', code: code});\n",
        "        },\n",
        "\n",
        "        click: function(e) {\n",
        "            this.send({event: 'click', button: e.button});\n",
        "        }\n",
        "    });\n",
        "    \n",
        "    WidgetManager.register_widget_view('TestView', TestView);\n",
        "});"
       ],
       "metadata": {},
       "output_type": "display_data",
       "text": [
        "<IPython.core.display.Javascript at 0x2d542d0>"
       ]
      }
     ],
     "prompt_number": 9
    },
    {
     "cell_type": "code",
     "collapsed": false,
     "input": [
      "my_widget = TestWidget()\n",
      "display(my_widget)"
     ],
     "language": "python",
     "metadata": {},
     "outputs": [
      {
       "output_type": "stream",
       "stream": "stdout",
       "text": [
        "Button 0\n"
       ]
      },
      {
       "output_type": "stream",
       "stream": "stdout",
       "text": [
        "Key 83\n"
       ]
      }
     ],
     "prompt_number": 10
    },
    {
     "cell_type": "code",
     "collapsed": false,
     "input": [],
     "language": "python",
     "metadata": {},
     "outputs": []
    },
    {
     "cell_type": "code",
     "collapsed": false,
     "input": [],
     "language": "python",
     "metadata": {},
     "outputs": []
    }
   ],
   "metadata": {}
  }
 ]
}