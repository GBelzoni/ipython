{
 "metadata": {
  "cell_tags": [
   [
    "<None>",
    null
   ]
  ],
  "name": "",
  "signature": "sha256:f6f103b8ac5c32533a094f865c02ba3b4ab4b17927b37200b7b1c5d67a9448d1"
 },
 "nbformat": 3,
 "nbformat_minor": 0,
 "worksheets": [
  {
   "cells": [
    {
     "cell_type": "code",
     "collapsed": false,
     "input": [
      "from __future__ import print_function # For py 2.7 compat\n",
      "from IPython.html import widgets # Widget definitions\n",
      "from IPython.display import display # Used to display widgets in the notebook\n",
      "from IPython.utils.traitlets import Unicode # Used to declare attributes of our widget"
     ],
     "language": "python",
     "metadata": {},
     "outputs": [],
     "prompt_number": 1
    },
    {
     "cell_type": "code",
     "collapsed": false,
     "input": [
      "class TestWidget(widgets.DOMWidget):\n",
      "    _view_name = Unicode('TestView', sync=True)\n",
      "    \n",
      "    def __init__(self, **kwargs):\n",
      "        super(TestWidget, self).__init__(**kwargs)\n",
      "        self.on_msg(self._handle_button_msg)\n",
      "\n",
      "    def _handle_button_msg(self, _, content):\n",
      "        if content.get('event', '') == 'click':\n",
      "            self.on_click(content)\n",
      "        elif content.get('event', '') == 'keypress':\n",
      "            self.on_key_press(content)\n",
      "\n",
      "    def on_click(self, content):\n",
      "        print(\"Button {b}\".format(b=content['button']))\n",
      "\n",
      "    def on_key_press(self, content):\n",
      "        print(\"Key {c}\".format(c=content['code']))"
     ],
     "language": "python",
     "metadata": {},
     "outputs": [],
     "prompt_number": 2
    },
    {
     "cell_type": "code",
     "collapsed": false,
     "input": [
      "%%javascript\n",
      "require([\"widgets/js/widget\"], function(WidgetManager){\n",
      "    \n",
      "    var TestView = IPython.DOMWidgetView.extend({\n",
      "        render: function(){\n",
      "            \n",
      "            this.$canvas = $('<canvas />')\n",
      "                .attr('width', '200')\n",
      "                .attr('height', '100')\n",
      "                .attr('style', 'background: black;')\n",
      "                .attr('tabindex', '1')\n",
      "                .appendTo(this.$el);\n",
      "        },\n",
      "        \n",
      "        events: {\n",
      "            'keydown': 'keypress',\n",
      "            'click': 'click',\n",
      "        },\n",
      "\n",
      "        keypress: function(e) {\n",
      "            var code = e.keyCode || e.which;\n",
      "            this.send({event: 'keypress', code: code});\n",
      "        },\n",
      "\n",
      "        click: function(e) {\n",
      "            this.send({event: 'click', button: e.button});\n",
      "        }\n",
      "    });\n",
      "    \n",
      "    WidgetManager.register_widget_view('TestView', TestView);\n",
      "});"
     ],
     "language": "python",
     "metadata": {},
     "outputs": [
      {
       "javascript": [
        "require([\"widgets/js/widget\"], function(WidgetManager){\n",
        "    \n",
        "    var TestView = IPython.DOMWidgetView.extend({\n",
        "        render: function(){\n",
        "            \n",
        "            this.$canvas = $('<canvas />')\n",
        "                .attr('width', '200')\n",
        "                .attr('height', '100')\n",
        "                .attr('style', 'background: black;')\n",
        "                .attr('tabindex', '1')\n",
        "                .appendTo(this.$el);\n",
        "        },\n",
        "        \n",
        "        events: {\n",
        "            'keydown': 'keypress',\n",
        "            'click': 'click',\n",
        "        },\n",
        "\n",
        "        keypress: function(e) {\n",
        "            var code = e.keyCode || e.which;\n",
        "            this.send({event: 'keypress', code: code});\n",
        "        },\n",
        "\n",
        "        click: function(e) {\n",
        "            this.send({event: 'click', button: e.button});\n",
        "        }\n",
        "    });\n",
        "    \n",
        "    WidgetManager.register_widget_view('TestView', TestView);\n",
        "});"
       ],
       "metadata": {},
       "output_type": "display_data",
       "text": [
        "<IPython.core.display.Javascript at 0x42fae90>"
       ]
      }
     ],
     "prompt_number": 3
    },
    {
     "cell_type": "code",
     "collapsed": false,
     "input": [
      "my_widget = TestWidget()\n",
      "display(my_widget)"
     ],
     "language": "python",
     "metadata": {},
     "outputs": [
      {
       "output_type": "stream",
       "stream": "stdout",
       "text": [
        "Button 0\n"
       ]
      },
      {
       "output_type": "stream",
       "stream": "stdout",
       "text": [
        "Key 69\n"
       ]
      },
      {
       "output_type": "stream",
       "stream": "stdout",
       "text": [
        "Key 71\n"
       ]
      },
      {
       "output_type": "stream",
       "stream": "stdout",
       "text": [
        "Key 83\n"
       ]
      },
      {
       "output_type": "stream",
       "stream": "stdout",
       "text": [
        "Key 67\n"
       ]
      },
      {
       "output_type": "stream",
       "stream": "stdout",
       "text": [
        "Key 72\n"
       ]
      },
      {
       "output_type": "stream",
       "stream": "stdout",
       "text": [
        "Key 81\n"
       ]
      },
      {
       "output_type": "stream",
       "stream": "stdout",
       "text": [
        "Button 0\n"
       ]
      },
      {
       "output_type": "stream",
       "stream": "stdout",
       "text": [
        "Key 84\n"
       ]
      },
      {
       "output_type": "stream",
       "stream": "stdout",
       "text": [
        "Key 70\n"
       ]
      },
      {
       "output_type": "stream",
       "stream": "stdout",
       "text": [
        "Key 84\n"
       ]
      },
      {
       "output_type": "stream",
       "stream": "stdout",
       "text": [
        "Key 70\n"
       ]
      }
     ],
     "prompt_number": 5
    },
    {
     "cell_type": "code",
     "collapsed": false,
     "input": [],
     "language": "python",
     "metadata": {},
     "outputs": []
    },
    {
     "cell_type": "code",
     "collapsed": false,
     "input": [],
     "language": "python",
     "metadata": {},
     "outputs": []
    }
   ],
   "metadata": {}
  }
 ]
}